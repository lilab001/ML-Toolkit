{
 "cells": [
  {
   "cell_type": "code",
   "execution_count": 1,
   "id": "e50d48d9",
   "metadata": {
    "_cell_guid": "b1076dfc-b9ad-4769-8c92-a6c4dae69d19",
    "_uuid": "8f2839f25d086af736a60e9eeb907d3b93b6e0e5",
    "execution": {
     "iopub.execute_input": "2022-11-30T01:00:21.613719Z",
     "iopub.status.busy": "2022-11-30T01:00:21.612703Z",
     "iopub.status.idle": "2022-11-30T01:00:21.631112Z",
     "shell.execute_reply": "2022-11-30T01:00:21.630198Z"
    },
    "papermill": {
     "duration": 0.024845,
     "end_time": "2022-11-30T01:00:21.633238",
     "exception": false,
     "start_time": "2022-11-30T01:00:21.608393",
     "status": "completed"
    },
    "tags": []
   },
   "outputs": [
    {
     "name": "stdout",
     "output_type": "stream",
     "text": [
      "/kaggle/input/fe-course-data/spotify.csv\n",
      "/kaggle/input/fe-course-data/ames.csv\n",
      "/kaggle/input/fe-course-data/DataDocumentation.txt\n",
      "/kaggle/input/fe-course-data/movielens1m.csv\n",
      "/kaggle/input/fe-course-data/abalone.csv\n",
      "/kaggle/input/fe-course-data/concrete.csv\n",
      "/kaggle/input/fe-course-data/autos.csv\n",
      "/kaggle/input/fe-course-data/accidents.csv\n",
      "/kaggle/input/fe-course-data/customer.csv\n",
      "/kaggle/input/fe-course-data/caravan.csv\n",
      "/kaggle/input/fe-course-data/airbnb.csv\n",
      "/kaggle/input/fe-course-data/bike-sharing.csv\n",
      "/kaggle/input/fe-course-data/housing.csv\n"
     ]
    }
   ],
   "source": [
    "import numpy as np  \n",
    "import pandas as pd  \n",
    " \n",
    "import os\n",
    "for dirname, _, filenames in os.walk('/kaggle/input'):\n",
    "    for filename in filenames:\n",
    "        print(os.path.join(dirname, filename))"
   ]
  },
  {
   "cell_type": "code",
   "execution_count": 2,
   "id": "1295ef3b",
   "metadata": {
    "execution": {
     "iopub.execute_input": "2022-11-30T01:00:21.639890Z",
     "iopub.status.busy": "2022-11-30T01:00:21.639081Z",
     "iopub.status.idle": "2022-11-30T01:00:22.828106Z",
     "shell.execute_reply": "2022-11-30T01:00:22.826921Z"
    },
    "papermill": {
     "duration": 1.19465,
     "end_time": "2022-11-30T01:00:22.830736",
     "exception": false,
     "start_time": "2022-11-30T01:00:21.636086",
     "status": "completed"
    },
    "tags": []
   },
   "outputs": [
    {
     "data": {
      "text/html": [
       "<div>\n",
       "<style scoped>\n",
       "    .dataframe tbody tr th:only-of-type {\n",
       "        vertical-align: middle;\n",
       "    }\n",
       "\n",
       "    .dataframe tbody tr th {\n",
       "        vertical-align: top;\n",
       "    }\n",
       "\n",
       "    .dataframe thead th {\n",
       "        text-align: right;\n",
       "    }\n",
       "</style>\n",
       "<table border=\"1\" class=\"dataframe\">\n",
       "  <thead>\n",
       "    <tr style=\"text-align: right;\">\n",
       "      <th></th>\n",
       "      <th>Cement</th>\n",
       "      <th>BlastFurnaceSlag</th>\n",
       "      <th>FlyAsh</th>\n",
       "      <th>Water</th>\n",
       "      <th>Superplasticizer</th>\n",
       "      <th>CoarseAggregate</th>\n",
       "      <th>FineAggregate</th>\n",
       "      <th>Age</th>\n",
       "      <th>CompressiveStrength</th>\n",
       "    </tr>\n",
       "  </thead>\n",
       "  <tbody>\n",
       "    <tr>\n",
       "      <th>0</th>\n",
       "      <td>540.0</td>\n",
       "      <td>0.0</td>\n",
       "      <td>0.0</td>\n",
       "      <td>162.0</td>\n",
       "      <td>2.5</td>\n",
       "      <td>1040.0</td>\n",
       "      <td>676.0</td>\n",
       "      <td>28</td>\n",
       "      <td>79.99</td>\n",
       "    </tr>\n",
       "    <tr>\n",
       "      <th>1</th>\n",
       "      <td>540.0</td>\n",
       "      <td>0.0</td>\n",
       "      <td>0.0</td>\n",
       "      <td>162.0</td>\n",
       "      <td>2.5</td>\n",
       "      <td>1055.0</td>\n",
       "      <td>676.0</td>\n",
       "      <td>28</td>\n",
       "      <td>61.89</td>\n",
       "    </tr>\n",
       "    <tr>\n",
       "      <th>2</th>\n",
       "      <td>332.5</td>\n",
       "      <td>142.5</td>\n",
       "      <td>0.0</td>\n",
       "      <td>228.0</td>\n",
       "      <td>0.0</td>\n",
       "      <td>932.0</td>\n",
       "      <td>594.0</td>\n",
       "      <td>270</td>\n",
       "      <td>40.27</td>\n",
       "    </tr>\n",
       "    <tr>\n",
       "      <th>3</th>\n",
       "      <td>332.5</td>\n",
       "      <td>142.5</td>\n",
       "      <td>0.0</td>\n",
       "      <td>228.0</td>\n",
       "      <td>0.0</td>\n",
       "      <td>932.0</td>\n",
       "      <td>594.0</td>\n",
       "      <td>365</td>\n",
       "      <td>41.05</td>\n",
       "    </tr>\n",
       "    <tr>\n",
       "      <th>4</th>\n",
       "      <td>198.6</td>\n",
       "      <td>132.4</td>\n",
       "      <td>0.0</td>\n",
       "      <td>192.0</td>\n",
       "      <td>0.0</td>\n",
       "      <td>978.4</td>\n",
       "      <td>825.5</td>\n",
       "      <td>360</td>\n",
       "      <td>44.30</td>\n",
       "    </tr>\n",
       "  </tbody>\n",
       "</table>\n",
       "</div>"
      ],
      "text/plain": [
       "   Cement  BlastFurnaceSlag  FlyAsh  Water  Superplasticizer  CoarseAggregate  \\\n",
       "0   540.0               0.0     0.0  162.0               2.5           1040.0   \n",
       "1   540.0               0.0     0.0  162.0               2.5           1055.0   \n",
       "2   332.5             142.5     0.0  228.0               0.0            932.0   \n",
       "3   332.5             142.5     0.0  228.0               0.0            932.0   \n",
       "4   198.6             132.4     0.0  192.0               0.0            978.4   \n",
       "\n",
       "   FineAggregate  Age  CompressiveStrength  \n",
       "0          676.0   28                79.99  \n",
       "1          676.0   28                61.89  \n",
       "2          594.0  270                40.27  \n",
       "3          594.0  365                41.05  \n",
       "4          825.5  360                44.30  "
      ]
     },
     "execution_count": 2,
     "metadata": {},
     "output_type": "execute_result"
    }
   ],
   "source": [
    "from sklearn.ensemble import RandomForestRegressor\n",
    "from sklearn.model_selection import cross_val_score\n",
    "\n",
    "df = pd.read_csv(\"../input/fe-course-data/concrete.csv\")\n",
    "df.head()"
   ]
  },
  {
   "cell_type": "markdown",
   "id": "e8973940",
   "metadata": {
    "papermill": {
     "duration": 0.002044,
     "end_time": "2022-11-30T01:00:22.835476",
     "exception": false,
     "start_time": "2022-11-30T01:00:22.833432",
     "status": "completed"
    },
    "tags": []
   },
   "source": [
    "* We want to Feature Engineer some new variables\n",
    "* Want to stablish baseline score first by training model on unaugmented dataset\n",
    "* Baseline Score will tell us if new features are worth keeping"
   ]
  },
  {
   "cell_type": "code",
   "execution_count": 3,
   "id": "ca120b47",
   "metadata": {
    "execution": {
     "iopub.execute_input": "2022-11-30T01:00:22.842264Z",
     "iopub.status.busy": "2022-11-30T01:00:22.841274Z",
     "iopub.status.idle": "2022-11-30T01:00:31.967748Z",
     "shell.execute_reply": "2022-11-30T01:00:31.966481Z"
    },
    "papermill": {
     "duration": 9.13196,
     "end_time": "2022-11-30T01:00:31.969691",
     "exception": false,
     "start_time": "2022-11-30T01:00:22.837731",
     "status": "completed"
    },
    "tags": []
   },
   "outputs": [
    {
     "name": "stdout",
     "output_type": "stream",
     "text": [
      "\n",
      "MAE Baseline Score : 8.2317 \n"
     ]
    }
   ],
   "source": [
    "import warnings\n",
    "warnings.filterwarnings('ignore')\n",
    "\n",
    "X = df.copy()\n",
    "y = X.pop(\"CompressiveStrength\")\n",
    "\n",
    "# Training and score baseline model\n",
    "\n",
    "baseline = RandomForestRegressor( criterion = \"mae\" , random_state = 0)\n",
    "baseline_score = cross_val_score( baseline , X , y , cv = 5 , scoring = \"neg_mean_absolute_error\")\n",
    "baseline_score = -1*baseline_score.mean()\n",
    "\n",
    "print(\"\")\n",
    "print(\"MAE Baseline Score : {:.4f} \".format(baseline_score))"
   ]
  },
  {
   "cell_type": "markdown",
   "id": "c3e96dd5",
   "metadata": {
    "papermill": {
     "duration": 0.002051,
     "end_time": "2022-11-30T01:00:31.974287",
     "exception": false,
     "start_time": "2022-11-30T01:00:31.972236",
     "status": "completed"
    },
    "tags": []
   },
   "source": [
    "* \"Ratio of ingredients in a recipe is usually a better predictor of how the recipe turns our than their absolute amounts\""
   ]
  },
  {
   "cell_type": "code",
   "execution_count": 4,
   "id": "0f9609f7",
   "metadata": {
    "execution": {
     "iopub.execute_input": "2022-11-30T01:00:31.980079Z",
     "iopub.status.busy": "2022-11-30T01:00:31.979742Z",
     "iopub.status.idle": "2022-11-30T01:00:44.584043Z",
     "shell.execute_reply": "2022-11-30T01:00:44.583114Z"
    },
    "papermill": {
     "duration": 12.609386,
     "end_time": "2022-11-30T01:00:44.585878",
     "exception": false,
     "start_time": "2022-11-30T01:00:31.976492",
     "status": "completed"
    },
    "tags": []
   },
   "outputs": [
    {
     "name": "stdout",
     "output_type": "stream",
     "text": [
      "\n",
      "MAE Score of Model w Enhanced Data : 7.9481 \n"
     ]
    }
   ],
   "source": [
    "X = df.copy()\n",
    "y = X.pop(\"CompressiveStrength\")\n",
    "\n",
    "# lets add three new features\n",
    "\n",
    "X[\"FCRatio\"] = X[\"FineAggregate\"]/X[\"CoarseAggregate\"]\n",
    "X[\"AggCmtRatio\"] = (X[\"CoarseAggregate\"] + X[\"FineAggregate\"]) / X[\"Cement\"]\n",
    "X[\"WtrCmtRatio\"] =  X[\"Water\"] / X[\"Cement\"]\n",
    "\n",
    "# Train and score model w new feats.\n",
    "\n",
    "model = RandomForestRegressor( criterion = \"mae\", random_state = 0)\n",
    "score = cross_val_score( model , X , y, scoring = \"neg_mean_absolute_error\")\n",
    "score = -1 * score.mean()\n",
    "\n",
    "print(\"\")\n",
    "print(\"MAE Score of Model w Enhanced Data : {:.4f} \".format(score))"
   ]
  }
 ],
 "metadata": {
  "kernelspec": {
   "display_name": "Python 3",
   "language": "python",
   "name": "python3"
  },
  "language_info": {
   "codemirror_mode": {
    "name": "ipython",
    "version": 3
   },
   "file_extension": ".py",
   "mimetype": "text/x-python",
   "name": "python",
   "nbconvert_exporter": "python",
   "pygments_lexer": "ipython3",
   "version": "3.7.12"
  },
  "papermill": {
   "default_parameters": {},
   "duration": 32.144424,
   "end_time": "2022-11-30T01:00:45.310601",
   "environment_variables": {},
   "exception": null,
   "input_path": "__notebook__.ipynb",
   "output_path": "__notebook__.ipynb",
   "parameters": {},
   "start_time": "2022-11-30T01:00:13.166177",
   "version": "2.3.4"
  }
 },
 "nbformat": 4,
 "nbformat_minor": 5
}
