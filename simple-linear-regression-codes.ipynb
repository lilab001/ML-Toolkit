{
 "cells": [
  {
   "cell_type": "code",
   "execution_count": 1,
   "id": "e25fd00d",
   "metadata": {
    "_cell_guid": "b1076dfc-b9ad-4769-8c92-a6c4dae69d19",
    "_uuid": "8f2839f25d086af736a60e9eeb907d3b93b6e0e5",
    "execution": {
     "iopub.execute_input": "2022-12-29T15:31:33.100956Z",
     "iopub.status.busy": "2022-12-29T15:31:33.100567Z",
     "iopub.status.idle": "2022-12-29T15:31:34.334078Z",
     "shell.execute_reply": "2022-12-29T15:31:34.332275Z"
    },
    "papermill": {
     "duration": 1.242904,
     "end_time": "2022-12-29T15:31:34.337552",
     "exception": false,
     "start_time": "2022-12-29T15:31:33.094648",
     "status": "completed"
    },
    "tags": []
   },
   "outputs": [
    {
     "name": "stdout",
     "output_type": "stream",
     "text": [
      "/kaggle/input/advertising/Advertising.csv\n"
     ]
    }
   ],
   "source": [
    "import numpy as np \n",
    "import pandas as pd \n",
    "import matplotlib.pyplot as plt\n",
    "import seaborn as sns\n",
    "\n",
    "import os\n",
    "for dirname, _, filenames in os.walk('/kaggle/input'):\n",
    "    for filename in filenames:\n",
    "        print(os.path.join(dirname, filename))\n"
   ]
  },
  {
   "cell_type": "markdown",
   "id": "2ee2689c",
   "metadata": {
    "papermill": {
     "duration": 0.003976,
     "end_time": "2022-12-29T15:31:34.346116",
     "exception": false,
     "start_time": "2022-12-29T15:31:34.342140",
     "status": "completed"
    },
    "tags": []
   },
   "source": [
    "is there a relationship between marketing means and sales?"
   ]
  },
  {
   "cell_type": "code",
   "execution_count": 2,
   "id": "927e6902",
   "metadata": {
    "execution": {
     "iopub.execute_input": "2022-12-29T15:31:34.356486Z",
     "iopub.status.busy": "2022-12-29T15:31:34.355854Z",
     "iopub.status.idle": "2022-12-29T15:31:34.391942Z",
     "shell.execute_reply": "2022-12-29T15:31:34.390398Z"
    },
    "papermill": {
     "duration": 0.043336,
     "end_time": "2022-12-29T15:31:34.394076",
     "exception": false,
     "start_time": "2022-12-29T15:31:34.350740",
     "status": "completed"
    },
    "tags": []
   },
   "outputs": [
    {
     "data": {
      "text/html": [
       "<div>\n",
       "<style scoped>\n",
       "    .dataframe tbody tr th:only-of-type {\n",
       "        vertical-align: middle;\n",
       "    }\n",
       "\n",
       "    .dataframe tbody tr th {\n",
       "        vertical-align: top;\n",
       "    }\n",
       "\n",
       "    .dataframe thead th {\n",
       "        text-align: right;\n",
       "    }\n",
       "</style>\n",
       "<table border=\"1\" class=\"dataframe\">\n",
       "  <thead>\n",
       "    <tr style=\"text-align: right;\">\n",
       "      <th></th>\n",
       "      <th>TV</th>\n",
       "      <th>radio</th>\n",
       "      <th>newspaper</th>\n",
       "      <th>sales</th>\n",
       "    </tr>\n",
       "  </thead>\n",
       "  <tbody>\n",
       "    <tr>\n",
       "      <th>0</th>\n",
       "      <td>230.1</td>\n",
       "      <td>37.8</td>\n",
       "      <td>69.2</td>\n",
       "      <td>22.1</td>\n",
       "    </tr>\n",
       "    <tr>\n",
       "      <th>1</th>\n",
       "      <td>44.5</td>\n",
       "      <td>39.3</td>\n",
       "      <td>45.1</td>\n",
       "      <td>10.4</td>\n",
       "    </tr>\n",
       "    <tr>\n",
       "      <th>2</th>\n",
       "      <td>17.2</td>\n",
       "      <td>45.9</td>\n",
       "      <td>69.3</td>\n",
       "      <td>9.3</td>\n",
       "    </tr>\n",
       "    <tr>\n",
       "      <th>3</th>\n",
       "      <td>151.5</td>\n",
       "      <td>41.3</td>\n",
       "      <td>58.5</td>\n",
       "      <td>18.5</td>\n",
       "    </tr>\n",
       "    <tr>\n",
       "      <th>4</th>\n",
       "      <td>180.8</td>\n",
       "      <td>10.8</td>\n",
       "      <td>58.4</td>\n",
       "      <td>12.9</td>\n",
       "    </tr>\n",
       "  </tbody>\n",
       "</table>\n",
       "</div>"
      ],
      "text/plain": [
       "      TV  radio  newspaper  sales\n",
       "0  230.1   37.8       69.2   22.1\n",
       "1   44.5   39.3       45.1   10.4\n",
       "2   17.2   45.9       69.3    9.3\n",
       "3  151.5   41.3       58.5   18.5\n",
       "4  180.8   10.8       58.4   12.9"
      ]
     },
     "execution_count": 2,
     "metadata": {},
     "output_type": "execute_result"
    }
   ],
   "source": [
    "df = pd.read_csv('/kaggle/input/advertising/Advertising.csv')\n",
    "df.head()"
   ]
  },
  {
   "cell_type": "code",
   "execution_count": 3,
   "id": "06b5e319",
   "metadata": {
    "execution": {
     "iopub.execute_input": "2022-12-29T15:31:34.404711Z",
     "iopub.status.busy": "2022-12-29T15:31:34.403264Z",
     "iopub.status.idle": "2022-12-29T15:31:34.422965Z",
     "shell.execute_reply": "2022-12-29T15:31:34.421341Z"
    },
    "papermill": {
     "duration": 0.027598,
     "end_time": "2022-12-29T15:31:34.425630",
     "exception": false,
     "start_time": "2022-12-29T15:31:34.398032",
     "status": "completed"
    },
    "tags": []
   },
   "outputs": [
    {
     "data": {
      "text/html": [
       "<div>\n",
       "<style scoped>\n",
       "    .dataframe tbody tr th:only-of-type {\n",
       "        vertical-align: middle;\n",
       "    }\n",
       "\n",
       "    .dataframe tbody tr th {\n",
       "        vertical-align: top;\n",
       "    }\n",
       "\n",
       "    .dataframe thead th {\n",
       "        text-align: right;\n",
       "    }\n",
       "</style>\n",
       "<table border=\"1\" class=\"dataframe\">\n",
       "  <thead>\n",
       "    <tr style=\"text-align: right;\">\n",
       "      <th></th>\n",
       "      <th>TV</th>\n",
       "      <th>radio</th>\n",
       "      <th>newspaper</th>\n",
       "      <th>sales</th>\n",
       "      <th>total_spend</th>\n",
       "    </tr>\n",
       "  </thead>\n",
       "  <tbody>\n",
       "    <tr>\n",
       "      <th>0</th>\n",
       "      <td>230.1</td>\n",
       "      <td>37.8</td>\n",
       "      <td>69.2</td>\n",
       "      <td>22.1</td>\n",
       "      <td>337.1</td>\n",
       "    </tr>\n",
       "    <tr>\n",
       "      <th>1</th>\n",
       "      <td>44.5</td>\n",
       "      <td>39.3</td>\n",
       "      <td>45.1</td>\n",
       "      <td>10.4</td>\n",
       "      <td>128.9</td>\n",
       "    </tr>\n",
       "    <tr>\n",
       "      <th>2</th>\n",
       "      <td>17.2</td>\n",
       "      <td>45.9</td>\n",
       "      <td>69.3</td>\n",
       "      <td>9.3</td>\n",
       "      <td>132.4</td>\n",
       "    </tr>\n",
       "    <tr>\n",
       "      <th>3</th>\n",
       "      <td>151.5</td>\n",
       "      <td>41.3</td>\n",
       "      <td>58.5</td>\n",
       "      <td>18.5</td>\n",
       "      <td>251.3</td>\n",
       "    </tr>\n",
       "    <tr>\n",
       "      <th>4</th>\n",
       "      <td>180.8</td>\n",
       "      <td>10.8</td>\n",
       "      <td>58.4</td>\n",
       "      <td>12.9</td>\n",
       "      <td>250.0</td>\n",
       "    </tr>\n",
       "  </tbody>\n",
       "</table>\n",
       "</div>"
      ],
      "text/plain": [
       "      TV  radio  newspaper  sales  total_spend\n",
       "0  230.1   37.8       69.2   22.1        337.1\n",
       "1   44.5   39.3       45.1   10.4        128.9\n",
       "2   17.2   45.9       69.3    9.3        132.4\n",
       "3  151.5   41.3       58.5   18.5        251.3\n",
       "4  180.8   10.8       58.4   12.9        250.0"
      ]
     },
     "execution_count": 3,
     "metadata": {},
     "output_type": "execute_result"
    }
   ],
   "source": [
    "df['total_spend'] = df['TV'] + df['newspaper'] + df['radio']\n",
    "df.head()"
   ]
  },
  {
   "cell_type": "code",
   "execution_count": 4,
   "id": "193717fc",
   "metadata": {
    "execution": {
     "iopub.execute_input": "2022-12-29T15:31:34.436388Z",
     "iopub.status.busy": "2022-12-29T15:31:34.435978Z",
     "iopub.status.idle": "2022-12-29T15:31:34.768161Z",
     "shell.execute_reply": "2022-12-29T15:31:34.766504Z"
    },
    "papermill": {
     "duration": 0.340798,
     "end_time": "2022-12-29T15:31:34.770796",
     "exception": false,
     "start_time": "2022-12-29T15:31:34.429998",
     "status": "completed"
    },
    "tags": []
   },
   "outputs": [
    {
     "data": {
      "image/png": "[encoded data removed]",
      "text/plain": [
       "<Figure size 432x288 with 1 Axes>"
      ]
     },
     "metadata": {
      "needs_background": "light"
     },
     "output_type": "display_data"
    }
   ],
   "source": [
    "sns.scatterplot( data = df , x = 'total_spend' , y = 'sales'); \n",
    "sns.regplot( data = df , x = 'total_spend' , y = 'sales'); "
   ]
  },
  {
   "cell_type": "code",
   "execution_count": 5,
   "id": "5d491a01",
   "metadata": {
    "execution": {
     "iopub.execute_input": "2022-12-29T15:31:34.781085Z",
     "iopub.status.busy": "2022-12-29T15:31:34.780705Z",
     "iopub.status.idle": "2022-12-29T15:31:34.786167Z",
     "shell.execute_reply": "2022-12-29T15:31:34.784780Z"
    },
    "papermill": {
     "duration": 0.013397,
     "end_time": "2022-12-29T15:31:34.788648",
     "exception": false,
     "start_time": "2022-12-29T15:31:34.775251",
     "status": "completed"
    },
    "tags": []
   },
   "outputs": [],
   "source": [
    "X = df['total_spend']\n",
    "y = df['sales']"
   ]
  },
  {
   "cell_type": "code",
   "execution_count": 6,
   "id": "a293e2db",
   "metadata": {
    "execution": {
     "iopub.execute_input": "2022-12-29T15:31:34.798744Z",
     "iopub.status.busy": "2022-12-29T15:31:34.798396Z",
     "iopub.status.idle": "2022-12-29T15:31:34.803190Z",
     "shell.execute_reply": "2022-12-29T15:31:34.801467Z"
    },
    "papermill": {
     "duration": 0.01343,
     "end_time": "2022-12-29T15:31:34.806443",
     "exception": false,
     "start_time": "2022-12-29T15:31:34.793013",
     "status": "completed"
    },
    "tags": []
   },
   "outputs": [],
   "source": [
    "# y = mx + b\n",
    "# y = B0 + B1x\n",
    "# help(np.polyfit)"
   ]
  },
  {
   "cell_type": "code",
   "execution_count": 7,
   "id": "00fbaf8f",
   "metadata": {
    "execution": {
     "iopub.execute_input": "2022-12-29T15:31:34.817061Z",
     "iopub.status.busy": "2022-12-29T15:31:34.816691Z",
     "iopub.status.idle": "2022-12-29T15:31:34.824687Z",
     "shell.execute_reply": "2022-12-29T15:31:34.823325Z"
    },
    "papermill": {
     "duration": 0.016055,
     "end_time": "2022-12-29T15:31:34.827071",
     "exception": false,
     "start_time": "2022-12-29T15:31:34.811016",
     "status": "completed"
    },
    "tags": []
   },
   "outputs": [
    {
     "data": {
      "text/plain": [
       "array([0.04868788, 4.24302822])"
      ]
     },
     "execution_count": 7,
     "metadata": {},
     "output_type": "execute_result"
    }
   ],
   "source": [
    "np.polyfit( X, y, deg = 1 )"
   ]
  },
  {
   "cell_type": "code",
   "execution_count": 8,
   "id": "efcd288e",
   "metadata": {
    "execution": {
     "iopub.execute_input": "2022-12-29T15:31:34.837729Z",
     "iopub.status.busy": "2022-12-29T15:31:34.837359Z",
     "iopub.status.idle": "2022-12-29T15:31:34.984790Z",
     "shell.execute_reply": "2022-12-29T15:31:34.983902Z"
    },
    "papermill": {
     "duration": 0.15485,
     "end_time": "2022-12-29T15:31:34.986542",
     "exception": false,
     "start_time": "2022-12-29T15:31:34.831692",
     "status": "completed"
    },
    "tags": []
   },
   "outputs": [
    {
     "data": {
      "image/png": "[encoded data removed]",
      "text/plain": [
       "<Figure size 432x288 with 1 Axes>"
      ]
     },
     "metadata": {
      "needs_background": "light"
     },
     "output_type": "display_data"
    }
   ],
   "source": [
    "potential_spend = np.linspace(0 , 500 , 100 )\n",
    "predicted_sales = 4.24302822 + 0.04868788*potential_spend\n",
    "\n",
    "sns.scatterplot( data = df , x = 'total_spend' , y = 'sales'); \n",
    "plt.plot( potential_spend , predicted_sales, color = 'red'); "
   ]
  },
  {
   "cell_type": "code",
   "execution_count": 9,
   "id": "f5aa6f6b",
   "metadata": {
    "execution": {
     "iopub.execute_input": "2022-12-29T15:31:34.998061Z",
     "iopub.status.busy": "2022-12-29T15:31:34.996954Z",
     "iopub.status.idle": "2022-12-29T15:31:35.005810Z",
     "shell.execute_reply": "2022-12-29T15:31:35.004054Z"
    },
    "papermill": {
     "duration": 0.017467,
     "end_time": "2022-12-29T15:31:35.008595",
     "exception": false,
     "start_time": "2022-12-29T15:31:34.991128",
     "status": "completed"
    },
    "tags": []
   },
   "outputs": [
    {
     "data": {
      "text/plain": [
       "13.98060422"
      ]
     },
     "execution_count": 9,
     "metadata": {},
     "output_type": "execute_result"
    }
   ],
   "source": [
    "spend = 200\n",
    "predicted_sales = 4.24302822 + 0.04868788*spend\n",
    "\n",
    "predicted_sales"
   ]
  },
  {
   "cell_type": "code",
   "execution_count": 10,
   "id": "ad8702b1",
   "metadata": {
    "execution": {
     "iopub.execute_input": "2022-12-29T15:31:35.019565Z",
     "iopub.status.busy": "2022-12-29T15:31:35.019202Z",
     "iopub.status.idle": "2022-12-29T15:31:35.027115Z",
     "shell.execute_reply": "2022-12-29T15:31:35.025832Z"
    },
    "papermill": {
     "duration": 0.016724,
     "end_time": "2022-12-29T15:31:35.030203",
     "exception": false,
     "start_time": "2022-12-29T15:31:35.013479",
     "status": "completed"
    },
    "tags": []
   },
   "outputs": [
    {
     "data": {
      "text/plain": [
       "array([ 3.07615033e-07, -1.89392449e-04,  8.20886302e-02,  2.70495053e+00])"
      ]
     },
     "execution_count": 10,
     "metadata": {},
     "output_type": "execute_result"
    }
   ],
   "source": [
    "# returns X in order of devreasing power\n",
    "# y = B3*x**3 + B2*x**2 + B1X + B0\n",
    "np.polyfit(X , y, 3)"
   ]
  },
  {
   "cell_type": "code",
   "execution_count": 11,
   "id": "f0dc2e2c",
   "metadata": {
    "execution": {
     "iopub.execute_input": "2022-12-29T15:31:35.042923Z",
     "iopub.status.busy": "2022-12-29T15:31:35.042542Z",
     "iopub.status.idle": "2022-12-29T15:31:35.049624Z",
     "shell.execute_reply": "2022-12-29T15:31:35.047702Z"
    },
    "papermill": {
     "duration": 0.016374,
     "end_time": "2022-12-29T15:31:35.052135",
     "exception": false,
     "start_time": "2022-12-29T15:31:35.035761",
     "status": "completed"
    },
    "tags": []
   },
   "outputs": [],
   "source": [
    "pot_spend = np.linspace( 0 ,500 ,100)\n",
    "pred_sales = 3.07615033e-07*pot_spend**3 + -1.89392449e-04*pot_spend**2 + 8.20886302e-02*pot_spend + 2.70495053e+00\n"
   ]
  },
  {
   "cell_type": "code",
   "execution_count": null,
   "id": "d5fecef6",
   "metadata": {
    "papermill": {
     "duration": 0.004422,
     "end_time": "2022-12-29T15:31:35.061481",
     "exception": false,
     "start_time": "2022-12-29T15:31:35.057059",
     "status": "completed"
    },
    "tags": []
   },
   "outputs": [],
   "source": []
  }
 ],
 "metadata": {
  "kernelspec": {
   "display_name": "Python 3",
   "language": "python",
   "name": "python3"
  },
  "language_info": {
   "codemirror_mode": {
    "name": "ipython",
    "version": 3
   },
   "file_extension": ".py",
   "mimetype": "text/x-python",
   "name": "python",
   "nbconvert_exporter": "python",
   "pygments_lexer": "ipython3",
   "version": "3.7.12"
  },
  "papermill": {
   "default_parameters": {},
   "duration": 11.619466,
   "end_time": "2022-12-29T15:31:35.889615",
   "environment_variables": {},
   "exception": null,
   "input_path": "__notebook__.ipynb",
   "output_path": "__notebook__.ipynb",
   "parameters": {},
   "start_time": "2022-12-29T15:31:24.270149",
   "version": "2.3.4"
  }
 },
 "nbformat": 4,
 "nbformat_minor": 5
}
