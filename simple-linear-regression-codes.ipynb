{
 "cells": [
  {
   "cell_type": "code",
   "execution_count": 1,
   "id": "b5c30fec",
   "metadata": {
    "_cell_guid": "b1076dfc-b9ad-4769-8c92-a6c4dae69d19",
    "_uuid": "8f2839f25d086af736a60e9eeb907d3b93b6e0e5",
    "execution": {
     "iopub.execute_input": "2023-01-08T20:09:51.224891Z",
     "iopub.status.busy": "2023-01-08T20:09:51.224393Z",
     "iopub.status.idle": "2023-01-08T20:09:52.458246Z",
     "shell.execute_reply": "2023-01-08T20:09:52.457010Z"
    },
    "papermill": {
     "duration": 1.248251,
     "end_time": "2023-01-08T20:09:52.461057",
     "exception": false,
     "start_time": "2023-01-08T20:09:51.212806",
     "status": "completed"
    },
    "tags": []
   },
   "outputs": [
    {
     "data": {
      "text/html": [
       "<div>\n",
       "<style scoped>\n",
       "    .dataframe tbody tr th:only-of-type {\n",
       "        vertical-align: middle;\n",
       "    }\n",
       "\n",
       "    .dataframe tbody tr th {\n",
       "        vertical-align: top;\n",
       "    }\n",
       "\n",
       "    .dataframe thead th {\n",
       "        text-align: right;\n",
       "    }\n",
       "</style>\n",
       "<table border=\"1\" class=\"dataframe\">\n",
       "  <thead>\n",
       "    <tr style=\"text-align: right;\">\n",
       "      <th></th>\n",
       "      <th>TV</th>\n",
       "      <th>radio</th>\n",
       "      <th>newspaper</th>\n",
       "      <th>sales</th>\n",
       "    </tr>\n",
       "  </thead>\n",
       "  <tbody>\n",
       "    <tr>\n",
       "      <th>0</th>\n",
       "      <td>230.1</td>\n",
       "      <td>37.8</td>\n",
       "      <td>69.2</td>\n",
       "      <td>22.1</td>\n",
       "    </tr>\n",
       "    <tr>\n",
       "      <th>1</th>\n",
       "      <td>44.5</td>\n",
       "      <td>39.3</td>\n",
       "      <td>45.1</td>\n",
       "      <td>10.4</td>\n",
       "    </tr>\n",
       "    <tr>\n",
       "      <th>2</th>\n",
       "      <td>17.2</td>\n",
       "      <td>45.9</td>\n",
       "      <td>69.3</td>\n",
       "      <td>9.3</td>\n",
       "    </tr>\n",
       "    <tr>\n",
       "      <th>3</th>\n",
       "      <td>151.5</td>\n",
       "      <td>41.3</td>\n",
       "      <td>58.5</td>\n",
       "      <td>18.5</td>\n",
       "    </tr>\n",
       "    <tr>\n",
       "      <th>4</th>\n",
       "      <td>180.8</td>\n",
       "      <td>10.8</td>\n",
       "      <td>58.4</td>\n",
       "      <td>12.9</td>\n",
       "    </tr>\n",
       "  </tbody>\n",
       "</table>\n",
       "</div>"
      ],
      "text/plain": [
       "      TV  radio  newspaper  sales\n",
       "0  230.1   37.8       69.2   22.1\n",
       "1   44.5   39.3       45.1   10.4\n",
       "2   17.2   45.9       69.3    9.3\n",
       "3  151.5   41.3       58.5   18.5\n",
       "4  180.8   10.8       58.4   12.9"
      ]
     },
     "execution_count": 1,
     "metadata": {},
     "output_type": "execute_result"
    }
   ],
   "source": [
    "import numpy as np \n",
    "import pandas as pd \n",
    "import matplotlib.pyplot as plt\n",
    "import seaborn as sns\n",
    "import scipy as sp\n",
    "import os\n",
    "\n",
    "#for dirname, _, filenames in os.walk('/kaggle/input'):\n",
    "#    for filename in filenames:\n",
    "#        print(os.path.join(dirname, filename))\n",
    "        \n",
    "df = pd.read_csv('/kaggle/input/advertising/Advertising.csv')\n",
    "df.head()"
   ]
  },
  {
   "cell_type": "markdown",
   "id": "440b83c5",
   "metadata": {
    "papermill": {
     "duration": 0.007654,
     "end_time": "2023-01-08T20:09:52.477176",
     "exception": false,
     "start_time": "2023-01-08T20:09:52.469522",
     "status": "completed"
    },
    "tags": []
   },
   "source": [
    "is there a relationship between marketing means and sales?"
   ]
  },
  {
   "cell_type": "markdown",
   "id": "5116fcf6",
   "metadata": {
    "papermill": {
     "duration": 0.007555,
     "end_time": "2023-01-08T20:09:52.492897",
     "exception": false,
     "start_time": "2023-01-08T20:09:52.485342",
     "status": "completed"
    },
    "tags": []
   },
   "source": [
    "* In this part of this example we want to feature engineer only one x\n",
    "* Lets derive total_spend as the sum of marketing channels\n",
    "* Note this modifies the question to - does an increase in total spend influence sales\n",
    "\n",
    "\n",
    "* Glancing at the data and fitting regression line\n",
    "* lets take the feature engineered lonely x we made\n",
    "* use np.polyfit to find the beta coefficients"
   ]
  },
  {
   "cell_type": "code",
   "execution_count": 2,
   "id": "68764aa9",
   "metadata": {
    "execution": {
     "iopub.execute_input": "2023-01-08T20:09:52.510985Z",
     "iopub.status.busy": "2023-01-08T20:09:52.510158Z",
     "iopub.status.idle": "2023-01-08T20:09:52.932894Z",
     "shell.execute_reply": "2023-01-08T20:09:52.931597Z"
    },
    "papermill": {
     "duration": 0.434633,
     "end_time": "2023-01-08T20:09:52.935509",
     "exception": false,
     "start_time": "2023-01-08T20:09:52.500876",
     "status": "completed"
    },
    "tags": []
   },
   "outputs": [
    {
     "name": "stdout",
     "output_type": "stream",
     "text": [
      " \n",
      "Beta Coeffs derived by np.polyfit [0.04868788 4.24302822]\n",
      " \n"
     ]
    },
    {
     "data": {
      "text/html": [
       "<div>\n",
       "<style scoped>\n",
       "    .dataframe tbody tr th:only-of-type {\n",
       "        vertical-align: middle;\n",
       "    }\n",
       "\n",
       "    .dataframe tbody tr th {\n",
       "        vertical-align: top;\n",
       "    }\n",
       "\n",
       "    .dataframe thead th {\n",
       "        text-align: right;\n",
       "    }\n",
       "</style>\n",
       "<table border=\"1\" class=\"dataframe\">\n",
       "  <thead>\n",
       "    <tr style=\"text-align: right;\">\n",
       "      <th></th>\n",
       "      <th>TV</th>\n",
       "      <th>radio</th>\n",
       "      <th>newspaper</th>\n",
       "      <th>sales</th>\n",
       "      <th>total_spend</th>\n",
       "    </tr>\n",
       "  </thead>\n",
       "  <tbody>\n",
       "    <tr>\n",
       "      <th>0</th>\n",
       "      <td>230.1</td>\n",
       "      <td>37.8</td>\n",
       "      <td>69.2</td>\n",
       "      <td>22.1</td>\n",
       "      <td>337.1</td>\n",
       "    </tr>\n",
       "    <tr>\n",
       "      <th>1</th>\n",
       "      <td>44.5</td>\n",
       "      <td>39.3</td>\n",
       "      <td>45.1</td>\n",
       "      <td>10.4</td>\n",
       "      <td>128.9</td>\n",
       "    </tr>\n",
       "    <tr>\n",
       "      <th>2</th>\n",
       "      <td>17.2</td>\n",
       "      <td>45.9</td>\n",
       "      <td>69.3</td>\n",
       "      <td>9.3</td>\n",
       "      <td>132.4</td>\n",
       "    </tr>\n",
       "    <tr>\n",
       "      <th>3</th>\n",
       "      <td>151.5</td>\n",
       "      <td>41.3</td>\n",
       "      <td>58.5</td>\n",
       "      <td>18.5</td>\n",
       "      <td>251.3</td>\n",
       "    </tr>\n",
       "    <tr>\n",
       "      <th>4</th>\n",
       "      <td>180.8</td>\n",
       "      <td>10.8</td>\n",
       "      <td>58.4</td>\n",
       "      <td>12.9</td>\n",
       "      <td>250.0</td>\n",
       "    </tr>\n",
       "  </tbody>\n",
       "</table>\n",
       "</div>"
      ],
      "text/plain": [
       "      TV  radio  newspaper  sales  total_spend\n",
       "0  230.1   37.8       69.2   22.1        337.1\n",
       "1   44.5   39.3       45.1   10.4        128.9\n",
       "2   17.2   45.9       69.3    9.3        132.4\n",
       "3  151.5   41.3       58.5   18.5        251.3\n",
       "4  180.8   10.8       58.4   12.9        250.0"
      ]
     },
     "execution_count": 2,
     "metadata": {},
     "output_type": "execute_result"
    },
    {
     "data": {
      "image/png": "[encoded data removed]",
      "text/plain": [
       "<Figure size 432x288 with 1 Axes>"
      ]
     },
     "metadata": {
      "needs_background": "light"
     },
     "output_type": "display_data"
    }
   ],
   "source": [
    "# single x example        \n",
    "\n",
    "df = pd.read_csv('/kaggle/input/advertising/Advertising.csv') \n",
    "\n",
    "df['total_spend'] = df['TV'] + df['newspaper'] + df['radio']\n",
    "X = df['total_spend']\n",
    "y = df['sales']\n",
    "  \n",
    "print(' ')\n",
    "print('Beta Coeffs derived by np.polyfit' , np.polyfit( X, y, deg = 1 ) )\n",
    "print(' ')\n",
    "\n",
    "\n",
    "sns.scatterplot( data = df , x = 'total_spend' , y = 'sales'); \n",
    "sns.regplot( data = df , x = 'total_spend' , y = 'sales'); \n",
    "df.head()"
   ]
  },
  {
   "cell_type": "markdown",
   "id": "df3d5cf6",
   "metadata": {
    "papermill": {
     "duration": 0.009366,
     "end_time": "2023-01-08T20:09:52.953732",
     "exception": false,
     "start_time": "2023-01-08T20:09:52.944366",
     "status": "completed"
    },
    "tags": []
   },
   "source": [
    "* We can create an equation from the above and plot it above our original data\n",
    "* To analyze what expected predicted sales would be if we spend 200k\n",
    "* Also we could fit higher order polynomial - would it be better?"
   ]
  },
  {
   "cell_type": "code",
   "execution_count": 3,
   "id": "79ff8034",
   "metadata": {
    "execution": {
     "iopub.execute_input": "2023-01-08T20:09:52.984345Z",
     "iopub.status.busy": "2023-01-08T20:09:52.983714Z",
     "iopub.status.idle": "2023-01-08T20:09:53.230853Z",
     "shell.execute_reply": "2023-01-08T20:09:53.229475Z"
    },
    "papermill": {
     "duration": 0.26202,
     "end_time": "2023-01-08T20:09:53.233137",
     "exception": false,
     "start_time": "2023-01-08T20:09:52.971117",
     "status": "completed"
    },
    "tags": []
   },
   "outputs": [
    {
     "name": "stdout",
     "output_type": "stream",
     "text": [
      "13.98060422 Predicted Sales From spending 200\n",
      "\n"
     ]
    },
    {
     "data": {
      "image/png": "[encoded data removed]",
      "text/plain": [
       "<Figure size 432x288 with 1 Axes>"
      ]
     },
     "metadata": {
      "needs_background": "light"
     },
     "output_type": "display_data"
    }
   ],
   "source": [
    "potential_spend = np.linspace(0 , 500 , 100 )\n",
    "predicted_sales = 4.24302822 + 0.04868788*potential_spend\n",
    "\n",
    "sns.scatterplot( data = df , x = 'total_spend' , y = 'sales'); \n",
    "plt.plot( potential_spend , predicted_sales, color = 'red'); \n",
    " \n",
    "###########################################################################################\n",
    "\n",
    "spend = 200\n",
    "predicted_sales = 4.24302822 + 0.04868788*spend\n",
    "\n",
    "print( str(predicted_sales) + ' Predicted Sales', 'From spending ' + str(spend)    )\n",
    "print('')\n",
    "\n"
   ]
  },
  {
   "cell_type": "code",
   "execution_count": 4,
   "id": "85ada051",
   "metadata": {
    "execution": {
     "iopub.execute_input": "2023-01-08T20:09:53.254095Z",
     "iopub.status.busy": "2023-01-08T20:09:53.253138Z",
     "iopub.status.idle": "2023-01-08T20:09:53.501581Z",
     "shell.execute_reply": "2023-01-08T20:09:53.500578Z"
    },
    "papermill": {
     "duration": 0.26162,
     "end_time": "2023-01-08T20:09:53.504176",
     "exception": false,
     "start_time": "2023-01-08T20:09:53.242556",
     "status": "completed"
    },
    "tags": []
   },
   "outputs": [
    {
     "name": "stdout",
     "output_type": "stream",
     "text": [
      "Betas of 3 degree polynomial in Decreasing Order:  [ 3.07615033e-07 -1.89392449e-04  8.20886302e-02  2.70495053e+00]\n",
      "\n"
     ]
    },
    {
     "data": {
      "image/png": "[encoded data removed]",
      "text/plain": [
       "<Figure size 432x288 with 1 Axes>"
      ]
     },
     "metadata": {
      "needs_background": "light"
     },
     "output_type": "display_data"
    }
   ],
   "source": [
    "# returns X in order of devreasing power\n",
    "# y = B3*x**3 + B2*x**2 + B1X + B0\n",
    "\n",
    "print('Betas of 3 degree polynomial in Decreasing Order: ', np.polyfit(X , y, 3))\n",
    "print()\n",
    "\n",
    "\n",
    "pot_spend = np.linspace( 0 ,500 ,100)\n",
    "pred_sales = 3.07615033e-07*pot_spend**3 + -1.89392449e-04*pot_spend**2 + 8.20886302e-02*pot_spend + 2.70495053e+00\n",
    "sns.scatterplot( data = df , x = 'total_spend' , y = 'sales');\n",
    "plt.plot( pot_spend , pred_sales , color = 'red');"
   ]
  },
  {
   "cell_type": "markdown",
   "id": "e220f2c8",
   "metadata": {
    "papermill": {
     "duration": 0.009472,
     "end_time": "2023-01-08T20:09:53.523667",
     "exception": false,
     "start_time": "2023-01-08T20:09:53.514195",
     "status": "completed"
    },
    "tags": []
   },
   "source": [
    "* previously - checked if total_advertisting and sales\n",
    "* Now , what is the relationship between each advertisting means instead"
   ]
  },
  {
   "cell_type": "code",
   "execution_count": 5,
   "id": "66660c96",
   "metadata": {
    "execution": {
     "iopub.execute_input": "2023-01-08T20:09:53.545383Z",
     "iopub.status.busy": "2023-01-08T20:09:53.544723Z",
     "iopub.status.idle": "2023-01-08T20:09:54.112762Z",
     "shell.execute_reply": "2023-01-08T20:09:54.111657Z"
    },
    "papermill": {
     "duration": 0.581815,
     "end_time": "2023-01-08T20:09:54.115140",
     "exception": false,
     "start_time": "2023-01-08T20:09:53.533325",
     "status": "completed"
    },
    "tags": []
   },
   "outputs": [
    {
     "name": "stdout",
     "output_type": "stream",
     "text": [
      "\n"
     ]
    },
    {
     "data": {
      "text/html": [
       "<div>\n",
       "<style scoped>\n",
       "    .dataframe tbody tr th:only-of-type {\n",
       "        vertical-align: middle;\n",
       "    }\n",
       "\n",
       "    .dataframe tbody tr th {\n",
       "        vertical-align: top;\n",
       "    }\n",
       "\n",
       "    .dataframe thead th {\n",
       "        text-align: right;\n",
       "    }\n",
       "</style>\n",
       "<table border=\"1\" class=\"dataframe\">\n",
       "  <thead>\n",
       "    <tr style=\"text-align: right;\">\n",
       "      <th></th>\n",
       "      <th>TV</th>\n",
       "      <th>radio</th>\n",
       "      <th>newspaper</th>\n",
       "      <th>sales</th>\n",
       "    </tr>\n",
       "  </thead>\n",
       "  <tbody>\n",
       "    <tr>\n",
       "      <th>0</th>\n",
       "      <td>230.1</td>\n",
       "      <td>37.8</td>\n",
       "      <td>69.2</td>\n",
       "      <td>22.1</td>\n",
       "    </tr>\n",
       "    <tr>\n",
       "      <th>1</th>\n",
       "      <td>44.5</td>\n",
       "      <td>39.3</td>\n",
       "      <td>45.1</td>\n",
       "      <td>10.4</td>\n",
       "    </tr>\n",
       "    <tr>\n",
       "      <th>2</th>\n",
       "      <td>17.2</td>\n",
       "      <td>45.9</td>\n",
       "      <td>69.3</td>\n",
       "      <td>9.3</td>\n",
       "    </tr>\n",
       "    <tr>\n",
       "      <th>3</th>\n",
       "      <td>151.5</td>\n",
       "      <td>41.3</td>\n",
       "      <td>58.5</td>\n",
       "      <td>18.5</td>\n",
       "    </tr>\n",
       "    <tr>\n",
       "      <th>4</th>\n",
       "      <td>180.8</td>\n",
       "      <td>10.8</td>\n",
       "      <td>58.4</td>\n",
       "      <td>12.9</td>\n",
       "    </tr>\n",
       "  </tbody>\n",
       "</table>\n",
       "</div>"
      ],
      "text/plain": [
       "      TV  radio  newspaper  sales\n",
       "0  230.1   37.8       69.2   22.1\n",
       "1   44.5   39.3       45.1   10.4\n",
       "2   17.2   45.9       69.3    9.3\n",
       "3  151.5   41.3       58.5   18.5\n",
       "4  180.8   10.8       58.4   12.9"
      ]
     },
     "execution_count": 5,
     "metadata": {},
     "output_type": "execute_result"
    },
    {
     "data": {
      "image/png": "[encoded data removed]",
      "text/plain": [
       "<Figure size 1152x432 with 3 Axes>"
      ]
     },
     "metadata": {
      "needs_background": "light"
     },
     "output_type": "display_data"
    }
   ],
   "source": [
    "df = pd.read_csv('/kaggle/input/advertising/Advertising.csv')\n",
    " \n",
    "    \n",
    "f ,  a  = plt.subplots( nrows = 1 , ncols = 3 , figsize = ( 16 , 6 ))\n",
    "\n",
    "a[0].plot( df['TV'], df['sales'], 'o')\n",
    "a[0].set_ylabel(\"Sales\")\n",
    "a[0].set_title(\"TV Spend\")\n",
    "\n",
    "a[1].plot( df['radio'], df['sales'], 'o')\n",
    "a[1].set_ylabel(\"Sales\")\n",
    "a[1].set_title(\"Radio Spend\")\n",
    "\n",
    "a[2].plot( df['newspaper'], df['sales'], 'o')\n",
    "a[2].set_ylabel(\"Sales\")\n",
    "a[2].set_title(\"Newspaper Spend\")\n",
    "\n",
    "plt.tight_layout()\n",
    "\n",
    "#sns.pairplot(df)\n",
    "\n",
    "print('')\n",
    "df.head()\n",
    "\n"
   ]
  },
  {
   "cell_type": "markdown",
   "id": "2c645e90",
   "metadata": {
    "papermill": {
     "duration": 0.010435,
     "end_time": "2023-01-08T20:09:54.136704",
     "exception": false,
     "start_time": "2023-01-08T20:09:54.126269",
     "status": "completed"
    },
    "tags": []
   },
   "source": [
    "* wanna compare test_pred erros to previous baselines set by historical models \n",
    "* if no model exist , compare Testing Error to Mean and Distribution of y"
   ]
  },
  {
   "cell_type": "code",
   "execution_count": 6,
   "id": "78b5a066",
   "metadata": {
    "execution": {
     "iopub.execute_input": "2023-01-08T20:09:54.160560Z",
     "iopub.status.busy": "2023-01-08T20:09:54.159809Z",
     "iopub.status.idle": "2023-01-08T20:09:54.452638Z",
     "shell.execute_reply": "2023-01-08T20:09:54.451601Z"
    },
    "papermill": {
     "duration": 0.30744,
     "end_time": "2023-01-08T20:09:54.455023",
     "exception": false,
     "start_time": "2023-01-08T20:09:54.147583",
     "status": "completed"
    },
    "tags": []
   },
   "outputs": [
    {
     "name": "stdout",
     "output_type": "stream",
     "text": [
      "MAE  :  1.4937750024728969\n",
      "MSE  :  3.7279283306815105\n",
      "RMSE :  1.9307843822347204\n",
      "\n"
     ]
    }
   ],
   "source": [
    "from sklearn.model_selection import train_test_split \n",
    "from sklearn.linear_model import LinearRegression\n",
    "from sklearn.metrics import mean_absolute_error , mean_squared_error\n",
    "\n",
    "X = df.drop('sales' , axis =1 )\n",
    "y = df['sales'] \n",
    "\n",
    "X_train, X_test, y_train, y_test = train_test_split(X, y, test_size=0.33, random_state=42)\n",
    " \n",
    "model = LinearRegression()\n",
    "model.fit( X_train, y_train )\n",
    "\n",
    "test_predictions = model.predict( X_test ) \n",
    " \n",
    "test_residuals = y_test - test_predictions\n",
    "\n",
    "###################################################################################\n",
    "\n",
    "# there are interpretations to each of these...\n",
    "print('MAE  : ' , mean_absolute_error( y_test , test_predictions )        )\n",
    "print('MSE  : ' , mean_squared_error( y_test , test_predictions  )        )\n",
    "print('RMSE : ' , np.sqrt(mean_squared_error( y_test , test_predictions )))\n",
    "print('')\n",
    "\n"
   ]
  },
  {
   "cell_type": "code",
   "execution_count": 7,
   "id": "883c0b03",
   "metadata": {
    "execution": {
     "iopub.execute_input": "2023-01-08T20:09:54.479239Z",
     "iopub.status.busy": "2023-01-08T20:09:54.478212Z",
     "iopub.status.idle": "2023-01-08T20:09:54.744025Z",
     "shell.execute_reply": "2023-01-08T20:09:54.742776Z"
    },
    "papermill": {
     "duration": 0.280578,
     "end_time": "2023-01-08T20:09:54.746535",
     "exception": false,
     "start_time": "2023-01-08T20:09:54.465957",
     "status": "completed"
    },
    "tags": []
   },
   "outputs": [
    {
     "data": {
      "image/png": "[encoded data removed]",
      "text/plain": [
       "<Figure size 432x288 with 1 Axes>"
      ]
     },
     "metadata": {
      "needs_background": "light"
     },
     "output_type": "display_data"
    }
   ],
   "source": [
    "plt.title('mean of sales:  ' + str( df['sales'].mean()))\n",
    "sns.histplot( data = df , x = 'sales' , bins = 20 ); "
   ]
  },
  {
   "cell_type": "code",
   "execution_count": 8,
   "id": "3aa2e35a",
   "metadata": {
    "execution": {
     "iopub.execute_input": "2023-01-08T20:09:54.771336Z",
     "iopub.status.busy": "2023-01-08T20:09:54.770701Z",
     "iopub.status.idle": "2023-01-08T20:09:55.563012Z",
     "shell.execute_reply": "2023-01-08T20:09:55.562170Z"
    },
    "papermill": {
     "duration": 0.80749,
     "end_time": "2023-01-08T20:09:55.565218",
     "exception": false,
     "start_time": "2023-01-08T20:09:54.757728",
     "status": "completed"
    },
    "tags": []
   },
   "outputs": [
    {
     "data": {
      "image/png": "[encoded data removed]",
      "text/plain": [
       "<Figure size 432x288 with 1 Axes>"
      ]
     },
     "metadata": {
      "needs_background": "light"
     },
     "output_type": "display_data"
    },
    {
     "name": "stdout",
     "output_type": "stream",
     "text": [
      "\n"
     ]
    },
    {
     "data": {
      "image/png": "[encoded data removed]",
      "text/plain": [
       "<Figure size 360x360 with 1 Axes>"
      ]
     },
     "metadata": {
      "needs_background": "light"
     },
     "output_type": "display_data"
    },
    {
     "data": {
      "image/png": "[encoded data removed]",
      "text/plain": [
       "<Figure size 400x600 with 1 Axes>"
      ]
     },
     "metadata": {
      "needs_background": "light"
     },
     "output_type": "display_data"
    }
   ],
   "source": [
    "# Is the data set valid for linear regression\n",
    "# look at residuals because they = y_test - test_predictions\n",
    "# so its an exploration of how far we are\n",
    "# making sure linear regression is appropriate can be verified with the residuals\n",
    "\n",
    "sns.scatterplot(x = y_test , y = test_residuals);\n",
    "plt.xlabel('Y test')\n",
    "plt.ylabel('Test Residuals')\n",
    "plt.axhline( y = 0 , color = 'r' , ls = '--');\n",
    "plt.show()\n",
    "\n",
    "print('')\n",
    "sns.displot( test_residuals , bins = 25, kde = True)\n",
    "plt.xlabel('Test Residuals')\n",
    "plt.show()\n",
    "\n",
    "f , a = plt.subplots( figsize = (4,6), dpi = 100 )\n",
    "_ = sp.stats.probplot(test_residuals, plot = a)\n",
    "plt.show()"
   ]
  },
  {
   "cell_type": "code",
   "execution_count": 9,
   "id": "2954eaee",
   "metadata": {
    "execution": {
     "iopub.execute_input": "2023-01-08T20:09:55.592819Z",
     "iopub.status.busy": "2023-01-08T20:09:55.591885Z",
     "iopub.status.idle": "2023-01-08T20:09:56.179161Z",
     "shell.execute_reply": "2023-01-08T20:09:56.177759Z"
    },
    "papermill": {
     "duration": 0.603835,
     "end_time": "2023-01-08T20:09:56.181917",
     "exception": false,
     "start_time": "2023-01-08T20:09:55.578082",
     "status": "completed"
    },
    "tags": []
   },
   "outputs": [
    {
     "name": "stdout",
     "output_type": "stream",
     "text": [
      "[ 0.04576465  0.18853002 -0.00103749]\n",
      "\n"
     ]
    },
    {
     "data": {
      "image/png": "[encoded data removed]",
      "text/plain": [
       "<Figure size 1152x432 with 3 Axes>"
      ]
     },
     "metadata": {
      "needs_background": "light"
     },
     "output_type": "display_data"
    }
   ],
   "source": [
    "# Residual data adds up - we can retrain model on all X\n",
    "# analyzing betas here\n",
    "\n",
    "final_model =  LinearRegression()\n",
    "final_model.fit( X, y )\n",
    "y_hat = final_model.predict(X)\n",
    "print(final_model.coef_)\n",
    "print('')\n",
    "\n",
    "\n",
    "f ,  a  = plt.subplots( nrows = 1 , ncols = 3 , figsize = ( 16 , 6 ))\n",
    "\n",
    "a[0].plot( df['TV'], df['sales'], 'o')\n",
    "a[0].plot( df['TV'], y_hat, 'o' , color  = 'red' )\n",
    "a[0].set_ylabel(\"Sales\")\n",
    "a[0].set_title(\"TV Spend\")\n",
    "\n",
    "a[1].plot( df['radio'], df['sales'], 'o')\n",
    "a[1].plot( df['radio'], y_hat , 'o', color  = 'red')\n",
    "a[1].set_ylabel(\"Sales\")\n",
    "a[1].set_title(\"Radio Spend\")\n",
    "\n",
    "a[2].plot( df['newspaper'], df['sales'], 'o')\n",
    "a[2].plot( df['newspaper'], y_hat, 'o', color  = 'red')\n",
    "a[2].set_ylabel(\"Sales\")\n",
    "a[2].set_title(\"Newspaper Spend\")\n",
    "\n",
    "plt.tight_layout()"
   ]
  },
  {
   "cell_type": "code",
   "execution_count": 10,
   "id": "17c17be1",
   "metadata": {
    "execution": {
     "iopub.execute_input": "2023-01-08T20:09:56.211898Z",
     "iopub.status.busy": "2023-01-08T20:09:56.211497Z",
     "iopub.status.idle": "2023-01-08T20:09:56.220516Z",
     "shell.execute_reply": "2023-01-08T20:09:56.219602Z"
    },
    "papermill": {
     "duration": 0.026417,
     "end_time": "2023-01-08T20:09:56.222760",
     "exception": false,
     "start_time": "2023-01-08T20:09:56.196343",
     "status": "completed"
    },
    "tags": []
   },
   "outputs": [
    {
     "data": {
      "text/plain": [
       "['final_sales_model.joblib']"
      ]
     },
     "execution_count": 10,
     "metadata": {},
     "output_type": "execute_result"
    }
   ],
   "source": [
    "from joblib import dump , load\n",
    "\n",
    "dump( final_model, 'final_sales_model.joblib')\n",
    " "
   ]
  },
  {
   "cell_type": "code",
   "execution_count": 11,
   "id": "8c61a6ab",
   "metadata": {
    "execution": {
     "iopub.execute_input": "2023-01-08T20:09:56.255131Z",
     "iopub.status.busy": "2023-01-08T20:09:56.254535Z",
     "iopub.status.idle": "2023-01-08T20:09:56.268286Z",
     "shell.execute_reply": "2023-01-08T20:09:56.266854Z"
    },
    "papermill": {
     "duration": 0.034299,
     "end_time": "2023-01-08T20:09:56.271262",
     "exception": false,
     "start_time": "2023-01-08T20:09:56.236963",
     "status": "completed"
    },
    "tags": []
   },
   "outputs": [
    {
     "name": "stderr",
     "output_type": "stream",
     "text": [
      "/opt/conda/lib/python3.7/site-packages/sklearn/base.py:451: UserWarning: X does not have valid feature names, but LinearRegression was fitted with feature names\n",
      "  \"X does not have valid feature names, but\"\n"
     ]
    },
    {
     "data": {
      "text/plain": [
       "array([13.893032])"
      ]
     },
     "execution_count": 11,
     "metadata": {},
     "output_type": "execute_result"
    }
   ],
   "source": [
    "loaded_model = load('final_sales_model.joblib')\n",
    "loaded_model.coef_\n",
    "\n",
    "# 149 tv , 22 radio , 12 news paper\n",
    "campaign =  [ [ 149, 22, 12 ] ]\n",
    "loaded_model.predict(campaign)"
   ]
  },
  {
   "cell_type": "markdown",
   "id": "7265cfb9",
   "metadata": {
    "papermill": {
     "duration": 0.013801,
     "end_time": "2023-01-08T20:09:56.299741",
     "exception": false,
     "start_time": "2023-01-08T20:09:56.285940",
     "status": "completed"
    },
    "tags": []
   },
   "source": [
    "\n",
    "\n",
    "* Polynomial features\n",
    "* The bias\n",
    "* Values raised to a power\n",
    "* Interactions\n",
    "* Want to go from 𝑦̂ =𝛽0+𝛽1𝑥1+𝜖 to 𝑦̂ =𝛽0+𝛽1𝑥1+𝛽1𝑥21+...+𝛽𝑑𝑥𝑑1+𝜖"
   ]
  },
  {
   "cell_type": "code",
   "execution_count": 12,
   "id": "878b7904",
   "metadata": {
    "execution": {
     "iopub.execute_input": "2023-01-08T20:09:56.329969Z",
     "iopub.status.busy": "2023-01-08T20:09:56.329279Z",
     "iopub.status.idle": "2023-01-08T20:09:56.347451Z",
     "shell.execute_reply": "2023-01-08T20:09:56.345932Z"
    },
    "papermill": {
     "duration": 0.036512,
     "end_time": "2023-01-08T20:09:56.350523",
     "exception": false,
     "start_time": "2023-01-08T20:09:56.314011",
     "status": "completed"
    },
    "tags": []
   },
   "outputs": [
    {
     "name": "stdout",
     "output_type": "stream",
     "text": [
      "(200, 9)\n",
      "[[ 230.1    37.8    69.2  ... 1428.84 2615.76 4788.64]\n",
      " [  44.5    39.3    45.1  ... 1544.49 1772.43 2034.01]\n",
      " [  17.2    45.9    69.3  ... 2106.81 3180.87 4802.49]\n",
      " ...\n",
      " [ 177.      9.3     6.4  ...   86.49   59.52   40.96]\n",
      " [ 283.6    42.     66.2  ... 1764.   2780.4  4382.44]\n",
      " [ 232.1     8.6     8.7  ...   73.96   74.82   75.69]]\n",
      "\n",
      "[[ 230.1    37.8    69.2  ... 1428.84 2615.76 4788.64]\n",
      " [  44.5    39.3    45.1  ... 1544.49 1772.43 2034.01]\n",
      " [  17.2    45.9    69.3  ... 2106.81 3180.87 4802.49]\n",
      " ...\n",
      " [ 177.      9.3     6.4  ...   86.49   59.52   40.96]\n",
      " [ 283.6    42.     66.2  ... 1764.   2780.4  4382.44]\n",
      " [ 232.1     8.6     8.7  ...   73.96   74.82   75.69]]\n"
     ]
    }
   ],
   "source": [
    "from sklearn.preprocessing import PolynomialFeatures\n",
    "\n",
    "df = pd.read_csv('/kaggle/input/advertising/Advertising.csv')\n",
    "\n",
    "X = df.drop('sales' ,axis = 1 )\n",
    "y = df['sales'] \n",
    "\n",
    "polynomial_converter = PolynomialFeatures( degree = 2 , include_bias = False )\n",
    "polynomial_converter.fit(X)\n",
    "poly_features = polynomial_converter.transform(X)\n",
    "\n",
    "# fit_transform \n",
    "\n",
    "print(poly_features.shape)\n",
    "print(polynomial_converter.fit_transform(X))\n",
    "print('')\n",
    "print(poly_features)"
   ]
  },
  {
   "cell_type": "markdown",
   "id": "67556e66",
   "metadata": {
    "papermill": {
     "duration": 0.013735,
     "end_time": "2023-01-08T20:09:56.379033",
     "exception": false,
     "start_time": "2023-01-08T20:09:56.365298",
     "status": "completed"
    },
    "tags": []
   },
   "source": [
    "* How to choose optimal degree for a polynomial?\n",
    "* Increasing model complexity in search for better performance leads to a Bias-Variance Trade off\n",
    "* Overfitting leads to low error on training sets but high error on test/validation sets [cross validation and test train splits]\n",
    "* Underfitting - High Bias!\n",
    "\n",
    "    * Not so easy to see in high dimensional models\n",
    "    * Plotting Train and Test set Error vs Model Complexity \n",
    "    * Ideally we want to increase complexity and error to go down\n",
    "\n"
   ]
  },
  {
   "cell_type": "code",
   "execution_count": 13,
   "id": "e9165c90",
   "metadata": {
    "execution": {
     "iopub.execute_input": "2023-01-08T20:09:56.408795Z",
     "iopub.status.busy": "2023-01-08T20:09:56.408320Z",
     "iopub.status.idle": "2023-01-08T20:09:56.544665Z",
     "shell.execute_reply": "2023-01-08T20:09:56.542588Z"
    },
    "papermill": {
     "duration": 0.156035,
     "end_time": "2023-01-08T20:09:56.549161",
     "exception": false,
     "start_time": "2023-01-08T20:09:56.393126",
     "status": "completed"
    },
    "tags": []
   },
   "outputs": [],
   "source": [
    "# create different order polynomial\n",
    "# split poly feat train/test\n",
    "# fit on train\n",
    "# store/save the rmse for Both Train AND Test\n",
    "# plot results ( error vs poly order)\n",
    "\n",
    "train_rmse_errors  = []\n",
    "test_rmse_errors = []\n",
    "\n",
    "for d in range(1, 10):\n",
    "    poly_converter = PolynomialFeatures( degree = d , include_bias = False)\n",
    "    poly_features = poly_converter.fit_transform(X)\n",
    "    \n",
    "    X_train, X_test, y_train, y_test = train_test_split(poly_features, y, test_size=0.33, random_state=42)\n",
    "    \n",
    "    model = LinearRegression()\n",
    "    model.fit( X_train, y_train )\n",
    "    \n",
    "    train_pred = model.predict(X_train )\n",
    "    test_pred  = model.predict(X_test  )\n",
    "    \n",
    "    train_rmse = np.sqrt(mean_squared_error(y_train, train_pred ))\n",
    "    test_rmse  = np.sqrt(mean_squared_error(y_test , test_pred  ))\n",
    "    \n",
    "    train_rmse_errors.append(train_rmse)\n",
    "    test_rmse_errors.append(test_rmse)"
   ]
  },
  {
   "cell_type": "markdown",
   "id": "5f44c182",
   "metadata": {
    "papermill": {
     "duration": 0.055029,
     "end_time": "2023-01-08T20:09:56.661977",
     "exception": false,
     "start_time": "2023-01-08T20:09:56.606948",
     "status": "completed"
    },
    "tags": []
   },
   "source": [
    "* What Degree of polynomial do we want to include?\n",
    "* think added complexity of adding 4 way interaction term - not warrented in this case\n",
    "* context says 2 or 3 would be best"
   ]
  },
  {
   "cell_type": "code",
   "execution_count": 14,
   "id": "b93a2ed4",
   "metadata": {
    "execution": {
     "iopub.execute_input": "2023-01-08T20:09:56.692075Z",
     "iopub.status.busy": "2023-01-08T20:09:56.691649Z",
     "iopub.status.idle": "2023-01-08T20:09:56.952223Z",
     "shell.execute_reply": "2023-01-08T20:09:56.951397Z"
    },
    "papermill": {
     "duration": 0.278141,
     "end_time": "2023-01-08T20:09:56.954562",
     "exception": false,
     "start_time": "2023-01-08T20:09:56.676421",
     "status": "completed"
    },
    "tags": []
   },
   "outputs": [
    {
     "data": {
      "image/png": "[encoded data removed]",
      "text/plain": [
       "<Figure size 432x288 with 1 Axes>"
      ]
     },
     "metadata": {
      "needs_background": "light"
     },
     "output_type": "display_data"
    }
   ],
   "source": [
    "plt.plot( range(1,6), train_rmse_errors[:5], label = 'Train RMSE');\n",
    "plt.plot( range(1,6), test_rmse_errors[:5], label = 'Test RMSE'); \n",
    "plt.xlabel('Degree of Polynomial')\n",
    "plt.ylabel('RMSE')\n",
    "plt.legend();"
   ]
  },
  {
   "cell_type": "code",
   "execution_count": 15,
   "id": "ee88206a",
   "metadata": {
    "execution": {
     "iopub.execute_input": "2023-01-08T20:09:56.985940Z",
     "iopub.status.busy": "2023-01-08T20:09:56.985184Z",
     "iopub.status.idle": "2023-01-08T20:09:56.998994Z",
     "shell.execute_reply": "2023-01-08T20:09:56.997869Z"
    },
    "papermill": {
     "duration": 0.032395,
     "end_time": "2023-01-08T20:09:57.001617",
     "exception": false,
     "start_time": "2023-01-08T20:09:56.969222",
     "status": "completed"
    },
    "tags": []
   },
   "outputs": [
    {
     "data": {
      "text/plain": [
       "['final_converter.joblib']"
      ]
     },
     "execution_count": 15,
     "metadata": {},
     "output_type": "execute_result"
    }
   ],
   "source": [
    "final_poly_converter = PolynomialFeatures( degree = 3 , include_bias = False)\n",
    "final_model = LinearRegression()\n",
    "\n",
    "full_converted_X = final_poly_converter.fit_transform(X)\n",
    "final_model.fit(full_converted_X , y)\n",
    "\n",
    "from joblib import dump, load\n",
    "\n",
    "dump(final_model, 'final_poly_model.joblib')\n",
    "dump(final_poly_converter , 'final_converter.joblib')"
   ]
  },
  {
   "cell_type": "code",
   "execution_count": 16,
   "id": "43d5653d",
   "metadata": {
    "execution": {
     "iopub.execute_input": "2023-01-08T20:09:57.032322Z",
     "iopub.status.busy": "2023-01-08T20:09:57.031886Z",
     "iopub.status.idle": "2023-01-08T20:09:57.038243Z",
     "shell.execute_reply": "2023-01-08T20:09:57.037383Z"
    },
    "papermill": {
     "duration": 0.024503,
     "end_time": "2023-01-08T20:09:57.040512",
     "exception": false,
     "start_time": "2023-01-08T20:09:57.016009",
     "status": "completed"
    },
    "tags": []
   },
   "outputs": [],
   "source": [
    "loaded_converter = load('final_converter.joblib')\n",
    "loaded_model = load('final_poly_model.joblib')"
   ]
  },
  {
   "cell_type": "code",
   "execution_count": 17,
   "id": "04b61d0c",
   "metadata": {
    "execution": {
     "iopub.execute_input": "2023-01-08T20:09:57.071720Z",
     "iopub.status.busy": "2023-01-08T20:09:57.070642Z",
     "iopub.status.idle": "2023-01-08T20:09:57.078947Z",
     "shell.execute_reply": "2023-01-08T20:09:57.077835Z"
    },
    "papermill": {
     "duration": 0.026158,
     "end_time": "2023-01-08T20:09:57.081157",
     "exception": false,
     "start_time": "2023-01-08T20:09:57.054999",
     "status": "completed"
    },
    "tags": []
   },
   "outputs": [
    {
     "data": {
      "text/plain": [
       "array([14.64501014])"
      ]
     },
     "execution_count": 17,
     "metadata": {},
     "output_type": "execute_result"
    }
   ],
   "source": [
    "campaign = [[149, 22 , 12]]\n",
    "transformed_data = loaded_converter.fit_transform(campaign)\n",
    "loaded_model.predict(transformed_data)"
   ]
  },
  {
   "cell_type": "code",
   "execution_count": 18,
   "id": "20ff7a1e",
   "metadata": {
    "execution": {
     "iopub.execute_input": "2023-01-08T20:09:57.113968Z",
     "iopub.status.busy": "2023-01-08T20:09:57.113136Z",
     "iopub.status.idle": "2023-01-08T20:09:57.131056Z",
     "shell.execute_reply": "2023-01-08T20:09:57.130012Z"
    },
    "papermill": {
     "duration": 0.036686,
     "end_time": "2023-01-08T20:09:57.133531",
     "exception": false,
     "start_time": "2023-01-08T20:09:57.096845",
     "status": "completed"
    },
    "tags": []
   },
   "outputs": [],
   "source": [
    "\n",
    "df = pd.read_csv('/kaggle/input/advertising/Advertising.csv')\n",
    "\n",
    "X = df.drop('sales' ,axis = 1 )\n",
    "y = df['sales'] \n",
    "\n",
    "from sklearn.preprocessing import PolynomialFeatures\n",
    "\n",
    "polynomial_converter = PolynomialFeatures( degree = 3 , include_bias = False)\n",
    "poly_features = polynomial_converter.fit_transform(X)\n",
    "#poly_features.shape\n",
    "\n",
    "##########################################################################################\n",
    "\n",
    "from sklearn.model_selection import train_test_split\n",
    "\n",
    "X_train, X_test, y_train, y_test = train_test_split( poly_features, y, test_size=0.33, random_state=42)\n",
    "\n",
    "##########################################################################################\n",
    "\n",
    "from sklearn.preprocessing import StandardScaler\n",
    "\n",
    "scaler = StandardScaler()\n",
    "scaler.fit(X_train)\n",
    "\n",
    "X_train = scaler.transform(X_train)\n",
    "X_test  = scaler.transform(X_test)\n",
    "\n",
    "##########################################################################################"
   ]
  },
  {
   "cell_type": "code",
   "execution_count": 19,
   "id": "9e54717a",
   "metadata": {
    "execution": {
     "iopub.execute_input": "2023-01-08T20:09:57.165302Z",
     "iopub.status.busy": "2023-01-08T20:09:57.164069Z",
     "iopub.status.idle": "2023-01-08T20:09:57.176749Z",
     "shell.execute_reply": "2023-01-08T20:09:57.175374Z"
    },
    "papermill": {
     "duration": 0.031151,
     "end_time": "2023-01-08T20:09:57.179249",
     "exception": false,
     "start_time": "2023-01-08T20:09:57.148098",
     "status": "completed"
    },
    "tags": []
   },
   "outputs": [
    {
     "name": "stdout",
     "output_type": "stream",
     "text": [
      "0.6329556348463365\n",
      "0.8927190051123457\n"
     ]
    }
   ],
   "source": [
    "from sklearn.linear_model import Ridge\n",
    "from sklearn.metrics import mean_absolute_error, mean_squared_error\n",
    "\n",
    "#help(Ridge)\n",
    "# eventaully we will use CV to find alpha - for now just use 10 \n",
    "ridge_model = Ridge(alpha = 10)\n",
    "\n",
    "ridge_model.fit(X_train, y_train)\n",
    "test_predictions = ridge_model.predict(X_test)\n",
    "\n",
    "MAE = mean_absolute_error(y_test , test_predictions)\n",
    "RMSE = np.sqrt( mean_squared_error( y_test , test_predictions ) )\n",
    "\n",
    "print(MAE)\n",
    "print(RMSE)"
   ]
  },
  {
   "cell_type": "code",
   "execution_count": 20,
   "id": "182ea3d6",
   "metadata": {
    "execution": {
     "iopub.execute_input": "2023-01-08T20:09:57.210489Z",
     "iopub.status.busy": "2023-01-08T20:09:57.210041Z",
     "iopub.status.idle": "2023-01-08T20:09:57.223597Z",
     "shell.execute_reply": "2023-01-08T20:09:57.222432Z"
    },
    "papermill": {
     "duration": 0.032394,
     "end_time": "2023-01-08T20:09:57.226172",
     "exception": false,
     "start_time": "2023-01-08T20:09:57.193778",
     "status": "completed"
    },
    "tags": []
   },
   "outputs": [
    {
     "data": {
      "text/plain": [
       "RidgeCV(alphas=array([ 0.1,  1. , 10. ]), scoring='neg_mean_absolute_error')"
      ]
     },
     "execution_count": 20,
     "metadata": {},
     "output_type": "execute_result"
    }
   ],
   "source": [
    "from sklearn.linear_model import RidgeCV\n",
    "#help(RidgeCV)\n",
    "\n",
    "ridge_cv_model = RidgeCV(alphas=(0.1, 1.0, 10.0) , scoring = 'neg_mean_absolute_error')\n",
    "ridge_cv_model.fit(X_train, y_train)"
   ]
  },
  {
   "cell_type": "code",
   "execution_count": 21,
   "id": "48ee6b99",
   "metadata": {
    "execution": {
     "iopub.execute_input": "2023-01-08T20:09:57.259051Z",
     "iopub.status.busy": "2023-01-08T20:09:57.258333Z",
     "iopub.status.idle": "2023-01-08T20:09:57.264401Z",
     "shell.execute_reply": "2023-01-08T20:09:57.263519Z"
    },
    "papermill": {
     "duration": 0.025255,
     "end_time": "2023-01-08T20:09:57.266798",
     "exception": false,
     "start_time": "2023-01-08T20:09:57.241543",
     "status": "completed"
    },
    "tags": []
   },
   "outputs": [
    {
     "data": {
      "text/plain": [
       "0.1"
      ]
     },
     "execution_count": 21,
     "metadata": {},
     "output_type": "execute_result"
    }
   ],
   "source": [
    "# which was the best performaning alpha ( based on which metrix ?)\n",
    "ridge_cv_model.alpha_\n",
    "\n",
    "#from sklearn.metrics import SCORERS\n",
    "#SCORERS.keys()\n"
   ]
  },
  {
   "cell_type": "code",
   "execution_count": 22,
   "id": "c952962f",
   "metadata": {
    "execution": {
     "iopub.execute_input": "2023-01-08T20:09:57.299441Z",
     "iopub.status.busy": "2023-01-08T20:09:57.298192Z",
     "iopub.status.idle": "2023-01-08T20:09:57.306111Z",
     "shell.execute_reply": "2023-01-08T20:09:57.304751Z"
    },
    "papermill": {
     "duration": 0.026561,
     "end_time": "2023-01-08T20:09:57.308362",
     "exception": false,
     "start_time": "2023-01-08T20:09:57.281801",
     "status": "completed"
    },
    "tags": []
   },
   "outputs": [
    {
     "name": "stdout",
     "output_type": "stream",
     "text": [
      "0.6329556348463365\n",
      "0.8927190051123457\n"
     ]
    }
   ],
   "source": [
    "MAE = mean_absolute_error(y_test, test_predictions) \n",
    "RMSE = np.sqrt( mean_squared_error( y_test , test_predictions ) )\n",
    "\n",
    "print(MAE)\n",
    "print(RMSE)"
   ]
  },
  {
   "cell_type": "code",
   "execution_count": 23,
   "id": "16b0ee2f",
   "metadata": {
    "execution": {
     "iopub.execute_input": "2023-01-08T20:09:57.340703Z",
     "iopub.status.busy": "2023-01-08T20:09:57.339998Z",
     "iopub.status.idle": "2023-01-08T20:09:57.403826Z",
     "shell.execute_reply": "2023-01-08T20:09:57.402607Z"
    },
    "papermill": {
     "duration": 0.082763,
     "end_time": "2023-01-08T20:09:57.406342",
     "exception": false,
     "start_time": "2023-01-08T20:09:57.323579",
     "status": "completed"
    },
    "tags": []
   },
   "outputs": [
    {
     "data": {
      "text/plain": [
       "0.4968802520343365"
      ]
     },
     "execution_count": 23,
     "metadata": {},
     "output_type": "execute_result"
    }
   ],
   "source": [
    "from sklearn.linear_model import LassoCV\n",
    "\n",
    "# Lasso\n",
    "# having to search either wide or for a long time\n",
    "lasso_cv_model = LassoCV( eps= .1, n_alphas=100, cv = 5 )\n",
    "# lasso_cv_model = LassoCV( eps= .001, n_alphas=100, cv = 5 , max_iter = 1000000)\n",
    "\n",
    "lasso_cv_model.fit(X_train, y_train)\n",
    "\n",
    "lasso_cv_model.alpha_"
   ]
  },
  {
   "cell_type": "code",
   "execution_count": 24,
   "id": "64aaa262",
   "metadata": {
    "execution": {
     "iopub.execute_input": "2023-01-08T20:09:57.438602Z",
     "iopub.status.busy": "2023-01-08T20:09:57.438162Z",
     "iopub.status.idle": "2023-01-08T20:09:57.446352Z",
     "shell.execute_reply": "2023-01-08T20:09:57.445140Z"
    },
    "papermill": {
     "duration": 0.027578,
     "end_time": "2023-01-08T20:09:57.449090",
     "exception": false,
     "start_time": "2023-01-08T20:09:57.421512",
     "status": "completed"
    },
    "tags": []
   },
   "outputs": [
    {
     "name": "stdout",
     "output_type": "stream",
     "text": [
      "0.6791873341672893\n",
      "1.0399114953979072\n"
     ]
    }
   ],
   "source": [
    "test_predictions = lasso_cv_model.predict(X_test)\n",
    "MAE = mean_absolute_error(y_test, test_predictions) \n",
    "RMSE = np.sqrt( mean_squared_error( y_test , test_predictions ) )\n",
    "\n",
    "print(MAE)\n",
    "print(RMSE)\n"
   ]
  },
  {
   "cell_type": "code",
   "execution_count": null,
   "id": "74b48933",
   "metadata": {
    "papermill": {
     "duration": 0.014856,
     "end_time": "2023-01-08T20:09:57.479675",
     "exception": false,
     "start_time": "2023-01-08T20:09:57.464819",
     "status": "completed"
    },
    "tags": []
   },
   "outputs": [],
   "source": []
  }
 ],
 "metadata": {
  "kernelspec": {
   "display_name": "Python 3",
   "language": "python",
   "name": "python3"
  },
  "language_info": {
   "codemirror_mode": {
    "name": "ipython",
    "version": 3
   },
   "file_extension": ".py",
   "mimetype": "text/x-python",
   "name": "python",
   "nbconvert_exporter": "python",
   "pygments_lexer": "ipython3",
   "version": "3.7.12"
  },
  "papermill": {
   "default_parameters": {},
   "duration": 15.893298,
   "end_time": "2023-01-08T20:09:58.317367",
   "environment_variables": {},
   "exception": null,
   "input_path": "__notebook__.ipynb",
   "output_path": "__notebook__.ipynb",
   "parameters": {},
   "start_time": "2023-01-08T20:09:42.424069",
   "version": "2.3.4"
  }
 },
 "nbformat": 4,
 "nbformat_minor": 5
}
