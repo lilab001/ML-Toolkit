{
 "cells": [
  {
   "cell_type": "code",
   "execution_count": 1,
   "id": "e08d72b4",
   "metadata": {
    "_cell_guid": "b1076dfc-b9ad-4769-8c92-a6c4dae69d19",
    "_uuid": "8f2839f25d086af736a60e9eeb907d3b93b6e0e5",
    "execution": {
     "iopub.execute_input": "2022-12-29T15:39:53.636496Z",
     "iopub.status.busy": "2022-12-29T15:39:53.635695Z",
     "iopub.status.idle": "2022-12-29T15:39:54.742410Z",
     "shell.execute_reply": "2022-12-29T15:39:54.741187Z"
    },
    "papermill": {
     "duration": 1.116489,
     "end_time": "2022-12-29T15:39:54.745388",
     "exception": false,
     "start_time": "2022-12-29T15:39:53.628899",
     "status": "completed"
    },
    "tags": []
   },
   "outputs": [
    {
     "name": "stdout",
     "output_type": "stream",
     "text": [
      "/kaggle/input/advertising/Advertising.csv\n"
     ]
    }
   ],
   "source": [
    "import numpy as np \n",
    "import pandas as pd \n",
    "import matplotlib.pyplot as plt\n",
    "import seaborn as sns\n",
    "\n",
    "import os\n",
    "for dirname, _, filenames in os.walk('/kaggle/input'):\n",
    "    for filename in filenames:\n",
    "        print(os.path.join(dirname, filename))\n"
   ]
  },
  {
   "cell_type": "markdown",
   "id": "bf51f9ac",
   "metadata": {
    "papermill": {
     "duration": 0.003597,
     "end_time": "2022-12-29T15:39:54.753740",
     "exception": false,
     "start_time": "2022-12-29T15:39:54.750143",
     "status": "completed"
    },
    "tags": []
   },
   "source": [
    "is there a relationship between marketing means and sales?"
   ]
  },
  {
   "cell_type": "code",
   "execution_count": 2,
   "id": "fcac7634",
   "metadata": {
    "execution": {
     "iopub.execute_input": "2022-12-29T15:39:54.763147Z",
     "iopub.status.busy": "2022-12-29T15:39:54.762741Z",
     "iopub.status.idle": "2022-12-29T15:39:54.793584Z",
     "shell.execute_reply": "2022-12-29T15:39:54.792548Z"
    },
    "papermill": {
     "duration": 0.039258,
     "end_time": "2022-12-29T15:39:54.796898",
     "exception": false,
     "start_time": "2022-12-29T15:39:54.757640",
     "status": "completed"
    },
    "tags": []
   },
   "outputs": [
    {
     "data": {
      "text/html": [
       "<div>\n",
       "<style scoped>\n",
       "    .dataframe tbody tr th:only-of-type {\n",
       "        vertical-align: middle;\n",
       "    }\n",
       "\n",
       "    .dataframe tbody tr th {\n",
       "        vertical-align: top;\n",
       "    }\n",
       "\n",
       "    .dataframe thead th {\n",
       "        text-align: right;\n",
       "    }\n",
       "</style>\n",
       "<table border=\"1\" class=\"dataframe\">\n",
       "  <thead>\n",
       "    <tr style=\"text-align: right;\">\n",
       "      <th></th>\n",
       "      <th>TV</th>\n",
       "      <th>radio</th>\n",
       "      <th>newspaper</th>\n",
       "      <th>sales</th>\n",
       "    </tr>\n",
       "  </thead>\n",
       "  <tbody>\n",
       "    <tr>\n",
       "      <th>0</th>\n",
       "      <td>230.1</td>\n",
       "      <td>37.8</td>\n",
       "      <td>69.2</td>\n",
       "      <td>22.1</td>\n",
       "    </tr>\n",
       "    <tr>\n",
       "      <th>1</th>\n",
       "      <td>44.5</td>\n",
       "      <td>39.3</td>\n",
       "      <td>45.1</td>\n",
       "      <td>10.4</td>\n",
       "    </tr>\n",
       "    <tr>\n",
       "      <th>2</th>\n",
       "      <td>17.2</td>\n",
       "      <td>45.9</td>\n",
       "      <td>69.3</td>\n",
       "      <td>9.3</td>\n",
       "    </tr>\n",
       "    <tr>\n",
       "      <th>3</th>\n",
       "      <td>151.5</td>\n",
       "      <td>41.3</td>\n",
       "      <td>58.5</td>\n",
       "      <td>18.5</td>\n",
       "    </tr>\n",
       "    <tr>\n",
       "      <th>4</th>\n",
       "      <td>180.8</td>\n",
       "      <td>10.8</td>\n",
       "      <td>58.4</td>\n",
       "      <td>12.9</td>\n",
       "    </tr>\n",
       "  </tbody>\n",
       "</table>\n",
       "</div>"
      ],
      "text/plain": [
       "      TV  radio  newspaper  sales\n",
       "0  230.1   37.8       69.2   22.1\n",
       "1   44.5   39.3       45.1   10.4\n",
       "2   17.2   45.9       69.3    9.3\n",
       "3  151.5   41.3       58.5   18.5\n",
       "4  180.8   10.8       58.4   12.9"
      ]
     },
     "execution_count": 2,
     "metadata": {},
     "output_type": "execute_result"
    }
   ],
   "source": [
    "df = pd.read_csv('/kaggle/input/advertising/Advertising.csv')\n",
    "df.head()"
   ]
  },
  {
   "cell_type": "code",
   "execution_count": 3,
   "id": "cd5e7e72",
   "metadata": {
    "execution": {
     "iopub.execute_input": "2022-12-29T15:39:54.807343Z",
     "iopub.status.busy": "2022-12-29T15:39:54.806932Z",
     "iopub.status.idle": "2022-12-29T15:39:54.824901Z",
     "shell.execute_reply": "2022-12-29T15:39:54.823757Z"
    },
    "papermill": {
     "duration": 0.026109,
     "end_time": "2022-12-29T15:39:54.827340",
     "exception": false,
     "start_time": "2022-12-29T15:39:54.801231",
     "status": "completed"
    },
    "tags": []
   },
   "outputs": [
    {
     "data": {
      "text/html": [
       "<div>\n",
       "<style scoped>\n",
       "    .dataframe tbody tr th:only-of-type {\n",
       "        vertical-align: middle;\n",
       "    }\n",
       "\n",
       "    .dataframe tbody tr th {\n",
       "        vertical-align: top;\n",
       "    }\n",
       "\n",
       "    .dataframe thead th {\n",
       "        text-align: right;\n",
       "    }\n",
       "</style>\n",
       "<table border=\"1\" class=\"dataframe\">\n",
       "  <thead>\n",
       "    <tr style=\"text-align: right;\">\n",
       "      <th></th>\n",
       "      <th>TV</th>\n",
       "      <th>radio</th>\n",
       "      <th>newspaper</th>\n",
       "      <th>sales</th>\n",
       "      <th>total_spend</th>\n",
       "    </tr>\n",
       "  </thead>\n",
       "  <tbody>\n",
       "    <tr>\n",
       "      <th>0</th>\n",
       "      <td>230.1</td>\n",
       "      <td>37.8</td>\n",
       "      <td>69.2</td>\n",
       "      <td>22.1</td>\n",
       "      <td>337.1</td>\n",
       "    </tr>\n",
       "    <tr>\n",
       "      <th>1</th>\n",
       "      <td>44.5</td>\n",
       "      <td>39.3</td>\n",
       "      <td>45.1</td>\n",
       "      <td>10.4</td>\n",
       "      <td>128.9</td>\n",
       "    </tr>\n",
       "    <tr>\n",
       "      <th>2</th>\n",
       "      <td>17.2</td>\n",
       "      <td>45.9</td>\n",
       "      <td>69.3</td>\n",
       "      <td>9.3</td>\n",
       "      <td>132.4</td>\n",
       "    </tr>\n",
       "    <tr>\n",
       "      <th>3</th>\n",
       "      <td>151.5</td>\n",
       "      <td>41.3</td>\n",
       "      <td>58.5</td>\n",
       "      <td>18.5</td>\n",
       "      <td>251.3</td>\n",
       "    </tr>\n",
       "    <tr>\n",
       "      <th>4</th>\n",
       "      <td>180.8</td>\n",
       "      <td>10.8</td>\n",
       "      <td>58.4</td>\n",
       "      <td>12.9</td>\n",
       "      <td>250.0</td>\n",
       "    </tr>\n",
       "  </tbody>\n",
       "</table>\n",
       "</div>"
      ],
      "text/plain": [
       "      TV  radio  newspaper  sales  total_spend\n",
       "0  230.1   37.8       69.2   22.1        337.1\n",
       "1   44.5   39.3       45.1   10.4        128.9\n",
       "2   17.2   45.9       69.3    9.3        132.4\n",
       "3  151.5   41.3       58.5   18.5        251.3\n",
       "4  180.8   10.8       58.4   12.9        250.0"
      ]
     },
     "execution_count": 3,
     "metadata": {},
     "output_type": "execute_result"
    }
   ],
   "source": [
    "df['total_spend'] = df['TV'] + df['newspaper'] + df['radio']\n",
    "df.head()"
   ]
  },
  {
   "cell_type": "code",
   "execution_count": 4,
   "id": "ea3b019a",
   "metadata": {
    "execution": {
     "iopub.execute_input": "2022-12-29T15:39:54.838302Z",
     "iopub.status.busy": "2022-12-29T15:39:54.837900Z",
     "iopub.status.idle": "2022-12-29T15:39:55.176721Z",
     "shell.execute_reply": "2022-12-29T15:39:55.175564Z"
    },
    "papermill": {
     "duration": 0.347214,
     "end_time": "2022-12-29T15:39:55.179176",
     "exception": false,
     "start_time": "2022-12-29T15:39:54.831962",
     "status": "completed"
    },
    "tags": []
   },
   "outputs": [
    {
     "data": {
      "image/png": "[encoded data removed]",
      "text/plain": [
       "<Figure size 432x288 with 1 Axes>"
      ]
     },
     "metadata": {
      "needs_background": "light"
     },
     "output_type": "display_data"
    }
   ],
   "source": [
    "sns.scatterplot( data = df , x = 'total_spend' , y = 'sales'); \n",
    "sns.regplot( data = df , x = 'total_spend' , y = 'sales'); "
   ]
  },
  {
   "cell_type": "code",
   "execution_count": 5,
   "id": "2a1da83f",
   "metadata": {
    "execution": {
     "iopub.execute_input": "2022-12-29T15:39:55.191049Z",
     "iopub.status.busy": "2022-12-29T15:39:55.190679Z",
     "iopub.status.idle": "2022-12-29T15:39:55.195153Z",
     "shell.execute_reply": "2022-12-29T15:39:55.194075Z"
    },
    "papermill": {
     "duration": 0.012868,
     "end_time": "2022-12-29T15:39:55.197436",
     "exception": false,
     "start_time": "2022-12-29T15:39:55.184568",
     "status": "completed"
    },
    "tags": []
   },
   "outputs": [],
   "source": [
    "X = df['total_spend']\n",
    "y = df['sales']"
   ]
  },
  {
   "cell_type": "code",
   "execution_count": 6,
   "id": "1d43bbab",
   "metadata": {
    "execution": {
     "iopub.execute_input": "2022-12-29T15:39:55.208680Z",
     "iopub.status.busy": "2022-12-29T15:39:55.208301Z",
     "iopub.status.idle": "2022-12-29T15:39:55.212856Z",
     "shell.execute_reply": "2022-12-29T15:39:55.211642Z"
    },
    "papermill": {
     "duration": 0.013067,
     "end_time": "2022-12-29T15:39:55.215277",
     "exception": false,
     "start_time": "2022-12-29T15:39:55.202210",
     "status": "completed"
    },
    "tags": []
   },
   "outputs": [],
   "source": [
    "# y = mx + b\n",
    "# y = B0 + B1x\n",
    "# help(np.polyfit)"
   ]
  },
  {
   "cell_type": "code",
   "execution_count": 7,
   "id": "a801a113",
   "metadata": {
    "execution": {
     "iopub.execute_input": "2022-12-29T15:39:55.227000Z",
     "iopub.status.busy": "2022-12-29T15:39:55.226071Z",
     "iopub.status.idle": "2022-12-29T15:39:55.233398Z",
     "shell.execute_reply": "2022-12-29T15:39:55.232655Z"
    },
    "papermill": {
     "duration": 0.015303,
     "end_time": "2022-12-29T15:39:55.235371",
     "exception": false,
     "start_time": "2022-12-29T15:39:55.220068",
     "status": "completed"
    },
    "tags": []
   },
   "outputs": [
    {
     "data": {
      "text/plain": [
       "array([0.04868788, 4.24302822])"
      ]
     },
     "execution_count": 7,
     "metadata": {},
     "output_type": "execute_result"
    }
   ],
   "source": [
    "np.polyfit( X, y, deg = 1 )"
   ]
  },
  {
   "cell_type": "code",
   "execution_count": 8,
   "id": "a34d8459",
   "metadata": {
    "execution": {
     "iopub.execute_input": "2022-12-29T15:39:55.247173Z",
     "iopub.status.busy": "2022-12-29T15:39:55.246242Z",
     "iopub.status.idle": "2022-12-29T15:39:55.410936Z",
     "shell.execute_reply": "2022-12-29T15:39:55.409843Z"
    },
    "papermill": {
     "duration": 0.173378,
     "end_time": "2022-12-29T15:39:55.413641",
     "exception": false,
     "start_time": "2022-12-29T15:39:55.240263",
     "status": "completed"
    },
    "tags": []
   },
   "outputs": [
    {
     "data": {
      "image/png": "[encoded data removed]",
      "text/plain": [
       "<Figure size 432x288 with 1 Axes>"
      ]
     },
     "metadata": {
      "needs_background": "light"
     },
     "output_type": "display_data"
    }
   ],
   "source": [
    "potential_spend = np.linspace(0 , 500 , 100 )\n",
    "predicted_sales = 4.24302822 + 0.04868788*potential_spend\n",
    "\n",
    "sns.scatterplot( data = df , x = 'total_spend' , y = 'sales'); \n",
    "plt.plot( potential_spend , predicted_sales, color = 'red'); "
   ]
  },
  {
   "cell_type": "code",
   "execution_count": 9,
   "id": "659575c9",
   "metadata": {
    "execution": {
     "iopub.execute_input": "2022-12-29T15:39:55.426084Z",
     "iopub.status.busy": "2022-12-29T15:39:55.425700Z",
     "iopub.status.idle": "2022-12-29T15:39:55.432733Z",
     "shell.execute_reply": "2022-12-29T15:39:55.431668Z"
    },
    "papermill": {
     "duration": 0.016854,
     "end_time": "2022-12-29T15:39:55.435777",
     "exception": false,
     "start_time": "2022-12-29T15:39:55.418923",
     "status": "completed"
    },
    "tags": []
   },
   "outputs": [
    {
     "data": {
      "text/plain": [
       "13.98060422"
      ]
     },
     "execution_count": 9,
     "metadata": {},
     "output_type": "execute_result"
    }
   ],
   "source": [
    "spend = 200\n",
    "predicted_sales = 4.24302822 + 0.04868788*spend\n",
    "\n",
    "predicted_sales"
   ]
  },
  {
   "cell_type": "code",
   "execution_count": 10,
   "id": "ec4ba020",
   "metadata": {
    "execution": {
     "iopub.execute_input": "2022-12-29T15:39:55.448313Z",
     "iopub.status.busy": "2022-12-29T15:39:55.447899Z",
     "iopub.status.idle": "2022-12-29T15:39:55.455298Z",
     "shell.execute_reply": "2022-12-29T15:39:55.454252Z"
    },
    "papermill": {
     "duration": 0.016664,
     "end_time": "2022-12-29T15:39:55.457888",
     "exception": false,
     "start_time": "2022-12-29T15:39:55.441224",
     "status": "completed"
    },
    "tags": []
   },
   "outputs": [
    {
     "data": {
      "text/plain": [
       "array([ 3.07615033e-07, -1.89392449e-04,  8.20886302e-02,  2.70495053e+00])"
      ]
     },
     "execution_count": 10,
     "metadata": {},
     "output_type": "execute_result"
    }
   ],
   "source": [
    "# returns X in order of devreasing power\n",
    "# y = B3*x**3 + B2*x**2 + B1X + B0\n",
    "np.polyfit(X , y, 3)"
   ]
  },
  {
   "cell_type": "code",
   "execution_count": 11,
   "id": "69d49099",
   "metadata": {
    "execution": {
     "iopub.execute_input": "2022-12-29T15:39:55.471018Z",
     "iopub.status.busy": "2022-12-29T15:39:55.470293Z",
     "iopub.status.idle": "2022-12-29T15:39:55.650326Z",
     "shell.execute_reply": "2022-12-29T15:39:55.649185Z"
    },
    "papermill": {
     "duration": 0.189767,
     "end_time": "2022-12-29T15:39:55.653241",
     "exception": false,
     "start_time": "2022-12-29T15:39:55.463474",
     "status": "completed"
    },
    "tags": []
   },
   "outputs": [
    {
     "data": {
      "image/png": "[encoded data removed]",
      "text/plain": [
       "<Figure size 432x288 with 1 Axes>"
      ]
     },
     "metadata": {
      "needs_background": "light"
     },
     "output_type": "display_data"
    }
   ],
   "source": [
    "pot_spend = np.linspace( 0 ,500 ,100)\n",
    "pred_sales = 3.07615033e-07*pot_spend**3 + -1.89392449e-04*pot_spend**2 + 8.20886302e-02*pot_spend + 2.70495053e+00\n",
    "sns.scatterplot( data = df , x = 'total_spend' , y = 'sales');\n",
    "plt.plot( pot_spend , pred_sales , color = 'red');"
   ]
  },
  {
   "cell_type": "code",
   "execution_count": null,
   "id": "4ea6f428",
   "metadata": {
    "papermill": {
     "duration": 0.005847,
     "end_time": "2022-12-29T15:39:55.665229",
     "exception": false,
     "start_time": "2022-12-29T15:39:55.659382",
     "status": "completed"
    },
    "tags": []
   },
   "outputs": [],
   "source": []
  }
 ],
 "metadata": {
  "kernelspec": {
   "display_name": "Python 3",
   "language": "python",
   "name": "python3"
  },
  "language_info": {
   "codemirror_mode": {
    "name": "ipython",
    "version": 3
   },
   "file_extension": ".py",
   "mimetype": "text/x-python",
   "name": "python",
   "nbconvert_exporter": "python",
   "pygments_lexer": "ipython3",
   "version": "3.7.12"
  },
  "papermill": {
   "default_parameters": {},
   "duration": 11.305946,
   "end_time": "2022-12-29T15:39:56.392828",
   "environment_variables": {},
   "exception": null,
   "input_path": "__notebook__.ipynb",
   "output_path": "__notebook__.ipynb",
   "parameters": {},
   "start_time": "2022-12-29T15:39:45.086882",
   "version": "2.3.4"
  }
 },
 "nbformat": 4,
 "nbformat_minor": 5
}
