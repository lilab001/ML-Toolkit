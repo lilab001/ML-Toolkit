{
 "cells": [
  {
   "cell_type": "code",
   "execution_count": 1,
   "id": "416b8e6d",
   "metadata": {
    "_cell_guid": "b1076dfc-b9ad-4769-8c92-a6c4dae69d19",
    "_uuid": "8f2839f25d086af736a60e9eeb907d3b93b6e0e5",
    "execution": {
     "iopub.execute_input": "2022-12-29T15:44:54.128519Z",
     "iopub.status.busy": "2022-12-29T15:44:54.127826Z",
     "iopub.status.idle": "2022-12-29T15:44:55.300446Z",
     "shell.execute_reply": "2022-12-29T15:44:55.299072Z"
    },
    "papermill": {
     "duration": 1.18383,
     "end_time": "2022-12-29T15:44:55.303153",
     "exception": false,
     "start_time": "2022-12-29T15:44:54.119323",
     "status": "completed"
    },
    "tags": []
   },
   "outputs": [
    {
     "name": "stdout",
     "output_type": "stream",
     "text": [
      "/kaggle/input/advertising/Advertising.csv\n"
     ]
    }
   ],
   "source": [
    "import numpy as np \n",
    "import pandas as pd \n",
    "import matplotlib.pyplot as plt\n",
    "import seaborn as sns\n",
    "\n",
    "import os\n",
    "for dirname, _, filenames in os.walk('/kaggle/input'):\n",
    "    for filename in filenames:\n",
    "        print(os.path.join(dirname, filename))\n"
   ]
  },
  {
   "cell_type": "markdown",
   "id": "5147545a",
   "metadata": {
    "papermill": {
     "duration": 0.004013,
     "end_time": "2022-12-29T15:44:55.311700",
     "exception": false,
     "start_time": "2022-12-29T15:44:55.307687",
     "status": "completed"
    },
    "tags": []
   },
   "source": [
    "is there a relationship between marketing means and sales?"
   ]
  },
  {
   "cell_type": "code",
   "execution_count": 2,
   "id": "fa82ff05",
   "metadata": {
    "execution": {
     "iopub.execute_input": "2022-12-29T15:44:55.322031Z",
     "iopub.status.busy": "2022-12-29T15:44:55.321602Z",
     "iopub.status.idle": "2022-12-29T15:44:55.356034Z",
     "shell.execute_reply": "2022-12-29T15:44:55.354856Z"
    },
    "papermill": {
     "duration": 0.042721,
     "end_time": "2022-12-29T15:44:55.358726",
     "exception": false,
     "start_time": "2022-12-29T15:44:55.316005",
     "status": "completed"
    },
    "tags": []
   },
   "outputs": [
    {
     "data": {
      "text/html": [
       "<div>\n",
       "<style scoped>\n",
       "    .dataframe tbody tr th:only-of-type {\n",
       "        vertical-align: middle;\n",
       "    }\n",
       "\n",
       "    .dataframe tbody tr th {\n",
       "        vertical-align: top;\n",
       "    }\n",
       "\n",
       "    .dataframe thead th {\n",
       "        text-align: right;\n",
       "    }\n",
       "</style>\n",
       "<table border=\"1\" class=\"dataframe\">\n",
       "  <thead>\n",
       "    <tr style=\"text-align: right;\">\n",
       "      <th></th>\n",
       "      <th>TV</th>\n",
       "      <th>radio</th>\n",
       "      <th>newspaper</th>\n",
       "      <th>sales</th>\n",
       "    </tr>\n",
       "  </thead>\n",
       "  <tbody>\n",
       "    <tr>\n",
       "      <th>0</th>\n",
       "      <td>230.1</td>\n",
       "      <td>37.8</td>\n",
       "      <td>69.2</td>\n",
       "      <td>22.1</td>\n",
       "    </tr>\n",
       "    <tr>\n",
       "      <th>1</th>\n",
       "      <td>44.5</td>\n",
       "      <td>39.3</td>\n",
       "      <td>45.1</td>\n",
       "      <td>10.4</td>\n",
       "    </tr>\n",
       "    <tr>\n",
       "      <th>2</th>\n",
       "      <td>17.2</td>\n",
       "      <td>45.9</td>\n",
       "      <td>69.3</td>\n",
       "      <td>9.3</td>\n",
       "    </tr>\n",
       "    <tr>\n",
       "      <th>3</th>\n",
       "      <td>151.5</td>\n",
       "      <td>41.3</td>\n",
       "      <td>58.5</td>\n",
       "      <td>18.5</td>\n",
       "    </tr>\n",
       "    <tr>\n",
       "      <th>4</th>\n",
       "      <td>180.8</td>\n",
       "      <td>10.8</td>\n",
       "      <td>58.4</td>\n",
       "      <td>12.9</td>\n",
       "    </tr>\n",
       "  </tbody>\n",
       "</table>\n",
       "</div>"
      ],
      "text/plain": [
       "      TV  radio  newspaper  sales\n",
       "0  230.1   37.8       69.2   22.1\n",
       "1   44.5   39.3       45.1   10.4\n",
       "2   17.2   45.9       69.3    9.3\n",
       "3  151.5   41.3       58.5   18.5\n",
       "4  180.8   10.8       58.4   12.9"
      ]
     },
     "execution_count": 2,
     "metadata": {},
     "output_type": "execute_result"
    }
   ],
   "source": [
    "df = pd.read_csv('/kaggle/input/advertising/Advertising.csv')\n",
    "df.head()"
   ]
  },
  {
   "cell_type": "markdown",
   "id": "bdf777f6",
   "metadata": {
    "papermill": {
     "duration": 0.004334,
     "end_time": "2022-12-29T15:44:55.368608",
     "exception": false,
     "start_time": "2022-12-29T15:44:55.364274",
     "status": "completed"
    },
    "tags": []
   },
   "source": [
    "* In this started example we want to feature engineer only one x\n",
    "* Lets derive total_spend as the sum of marketing channels"
   ]
  },
  {
   "cell_type": "code",
   "execution_count": 3,
   "id": "0fb7b7dd",
   "metadata": {
    "execution": {
     "iopub.execute_input": "2022-12-29T15:44:55.379540Z",
     "iopub.status.busy": "2022-12-29T15:44:55.379146Z",
     "iopub.status.idle": "2022-12-29T15:44:55.397415Z",
     "shell.execute_reply": "2022-12-29T15:44:55.396287Z"
    },
    "papermill": {
     "duration": 0.026657,
     "end_time": "2022-12-29T15:44:55.399916",
     "exception": false,
     "start_time": "2022-12-29T15:44:55.373259",
     "status": "completed"
    },
    "tags": []
   },
   "outputs": [
    {
     "data": {
      "text/html": [
       "<div>\n",
       "<style scoped>\n",
       "    .dataframe tbody tr th:only-of-type {\n",
       "        vertical-align: middle;\n",
       "    }\n",
       "\n",
       "    .dataframe tbody tr th {\n",
       "        vertical-align: top;\n",
       "    }\n",
       "\n",
       "    .dataframe thead th {\n",
       "        text-align: right;\n",
       "    }\n",
       "</style>\n",
       "<table border=\"1\" class=\"dataframe\">\n",
       "  <thead>\n",
       "    <tr style=\"text-align: right;\">\n",
       "      <th></th>\n",
       "      <th>TV</th>\n",
       "      <th>radio</th>\n",
       "      <th>newspaper</th>\n",
       "      <th>sales</th>\n",
       "      <th>total_spend</th>\n",
       "    </tr>\n",
       "  </thead>\n",
       "  <tbody>\n",
       "    <tr>\n",
       "      <th>0</th>\n",
       "      <td>230.1</td>\n",
       "      <td>37.8</td>\n",
       "      <td>69.2</td>\n",
       "      <td>22.1</td>\n",
       "      <td>337.1</td>\n",
       "    </tr>\n",
       "    <tr>\n",
       "      <th>1</th>\n",
       "      <td>44.5</td>\n",
       "      <td>39.3</td>\n",
       "      <td>45.1</td>\n",
       "      <td>10.4</td>\n",
       "      <td>128.9</td>\n",
       "    </tr>\n",
       "    <tr>\n",
       "      <th>2</th>\n",
       "      <td>17.2</td>\n",
       "      <td>45.9</td>\n",
       "      <td>69.3</td>\n",
       "      <td>9.3</td>\n",
       "      <td>132.4</td>\n",
       "    </tr>\n",
       "    <tr>\n",
       "      <th>3</th>\n",
       "      <td>151.5</td>\n",
       "      <td>41.3</td>\n",
       "      <td>58.5</td>\n",
       "      <td>18.5</td>\n",
       "      <td>251.3</td>\n",
       "    </tr>\n",
       "    <tr>\n",
       "      <th>4</th>\n",
       "      <td>180.8</td>\n",
       "      <td>10.8</td>\n",
       "      <td>58.4</td>\n",
       "      <td>12.9</td>\n",
       "      <td>250.0</td>\n",
       "    </tr>\n",
       "  </tbody>\n",
       "</table>\n",
       "</div>"
      ],
      "text/plain": [
       "      TV  radio  newspaper  sales  total_spend\n",
       "0  230.1   37.8       69.2   22.1        337.1\n",
       "1   44.5   39.3       45.1   10.4        128.9\n",
       "2   17.2   45.9       69.3    9.3        132.4\n",
       "3  151.5   41.3       58.5   18.5        251.3\n",
       "4  180.8   10.8       58.4   12.9        250.0"
      ]
     },
     "execution_count": 3,
     "metadata": {},
     "output_type": "execute_result"
    }
   ],
   "source": [
    "df['total_spend'] = df['TV'] + df['newspaper'] + df['radio']\n",
    "df.head()"
   ]
  },
  {
   "cell_type": "markdown",
   "id": "5d6d95c5",
   "metadata": {
    "papermill": {
     "duration": 0.004372,
     "end_time": "2022-12-29T15:44:55.409167",
     "exception": false,
     "start_time": "2022-12-29T15:44:55.404795",
     "status": "completed"
    },
    "tags": []
   },
   "source": [
    "* Glancing at the data and fitting regression line"
   ]
  },
  {
   "cell_type": "code",
   "execution_count": 4,
   "id": "f257a42f",
   "metadata": {
    "execution": {
     "iopub.execute_input": "2022-12-29T15:44:55.420489Z",
     "iopub.status.busy": "2022-12-29T15:44:55.420087Z",
     "iopub.status.idle": "2022-12-29T15:44:55.822111Z",
     "shell.execute_reply": "2022-12-29T15:44:55.821125Z"
    },
    "papermill": {
     "duration": 0.410624,
     "end_time": "2022-12-29T15:44:55.824656",
     "exception": false,
     "start_time": "2022-12-29T15:44:55.414032",
     "status": "completed"
    },
    "tags": []
   },
   "outputs": [
    {
     "data": {
      "image/png": "[encoded data removed]",
      "text/plain": [
       "<Figure size 432x288 with 1 Axes>"
      ]
     },
     "metadata": {
      "needs_background": "light"
     },
     "output_type": "display_data"
    }
   ],
   "source": [
    "sns.scatterplot( data = df , x = 'total_spend' , y = 'sales'); \n",
    "sns.regplot( data = df , x = 'total_spend' , y = 'sales'); "
   ]
  },
  {
   "cell_type": "markdown",
   "id": "3065e512",
   "metadata": {
    "papermill": {
     "duration": 0.004824,
     "end_time": "2022-12-29T15:44:55.834768",
     "exception": false,
     "start_time": "2022-12-29T15:44:55.829944",
     "status": "completed"
    },
    "tags": []
   },
   "source": [
    "* lets take the feature engineered lonely x we made\n",
    "* use np.polyfit to find the beta coefficients"
   ]
  },
  {
   "cell_type": "code",
   "execution_count": 5,
   "id": "b2f71ce7",
   "metadata": {
    "execution": {
     "iopub.execute_input": "2022-12-29T15:44:55.847291Z",
     "iopub.status.busy": "2022-12-29T15:44:55.846611Z",
     "iopub.status.idle": "2022-12-29T15:44:55.854638Z",
     "shell.execute_reply": "2022-12-29T15:44:55.853609Z"
    },
    "papermill": {
     "duration": 0.016987,
     "end_time": "2022-12-29T15:44:55.856918",
     "exception": false,
     "start_time": "2022-12-29T15:44:55.839931",
     "status": "completed"
    },
    "tags": []
   },
   "outputs": [
    {
     "data": {
      "text/plain": [
       "array([0.04868788, 4.24302822])"
      ]
     },
     "execution_count": 5,
     "metadata": {},
     "output_type": "execute_result"
    }
   ],
   "source": [
    "X = df['total_spend']\n",
    "y = df['sales']\n",
    "\n",
    "# y = mx + b\n",
    "# y = B0 + B1x\n",
    "# help(np.polyfit)\n",
    "\n",
    "np.polyfit( X, y, deg = 1 )"
   ]
  },
  {
   "cell_type": "markdown",
   "id": "75c2ff61",
   "metadata": {
    "papermill": {
     "duration": 0.00553,
     "end_time": "2022-12-29T15:44:55.868249",
     "exception": false,
     "start_time": "2022-12-29T15:44:55.862719",
     "status": "completed"
    },
    "tags": []
   },
   "source": [
    "* creating our equation"
   ]
  },
  {
   "cell_type": "code",
   "execution_count": 6,
   "id": "629ffdb2",
   "metadata": {
    "execution": {
     "iopub.execute_input": "2022-12-29T15:44:55.882079Z",
     "iopub.status.busy": "2022-12-29T15:44:55.881356Z",
     "iopub.status.idle": "2022-12-29T15:44:56.109301Z",
     "shell.execute_reply": "2022-12-29T15:44:56.108465Z"
    },
    "papermill": {
     "duration": 0.23735,
     "end_time": "2022-12-29T15:44:56.111426",
     "exception": false,
     "start_time": "2022-12-29T15:44:55.874076",
     "status": "completed"
    },
    "tags": []
   },
   "outputs": [
    {
     "data": {
      "image/png": "[encoded data removed]",
      "text/plain": [
       "<Figure size 432x288 with 1 Axes>"
      ]
     },
     "metadata": {
      "needs_background": "light"
     },
     "output_type": "display_data"
    }
   ],
   "source": [
    "potential_spend = np.linspace(0 , 500 , 100 )\n",
    "predicted_sales = 4.24302822 + 0.04868788*potential_spend\n",
    "\n",
    "sns.scatterplot( data = df , x = 'total_spend' , y = 'sales'); \n",
    "plt.plot( potential_spend , predicted_sales, color = 'red'); "
   ]
  },
  {
   "cell_type": "markdown",
   "id": "cbe4aa6c",
   "metadata": {
    "papermill": {
     "duration": 0.005372,
     "end_time": "2022-12-29T15:44:56.122671",
     "exception": false,
     "start_time": "2022-12-29T15:44:56.117299",
     "status": "completed"
    },
    "tags": []
   },
   "source": [
    "* to analyze what expected predicted sales would be if we spend 200k"
   ]
  },
  {
   "cell_type": "code",
   "execution_count": 7,
   "id": "38f81207",
   "metadata": {
    "execution": {
     "iopub.execute_input": "2022-12-29T15:44:56.136755Z",
     "iopub.status.busy": "2022-12-29T15:44:56.135761Z",
     "iopub.status.idle": "2022-12-29T15:44:56.142139Z",
     "shell.execute_reply": "2022-12-29T15:44:56.141263Z"
    },
    "papermill": {
     "duration": 0.015515,
     "end_time": "2022-12-29T15:44:56.144203",
     "exception": false,
     "start_time": "2022-12-29T15:44:56.128688",
     "status": "completed"
    },
    "tags": []
   },
   "outputs": [
    {
     "data": {
      "text/plain": [
       "13.98060422"
      ]
     },
     "execution_count": 7,
     "metadata": {},
     "output_type": "execute_result"
    }
   ],
   "source": [
    "spend = 200\n",
    "predicted_sales = 4.24302822 + 0.04868788*spend\n",
    "\n",
    "predicted_sales"
   ]
  },
  {
   "cell_type": "markdown",
   "id": "5692ef92",
   "metadata": {
    "papermill": {
     "duration": 0.005366,
     "end_time": "2022-12-29T15:44:56.155402",
     "exception": false,
     "start_time": "2022-12-29T15:44:56.150036",
     "status": "completed"
    },
    "tags": []
   },
   "source": [
    "* also we could fit higher order polynomial"
   ]
  },
  {
   "cell_type": "code",
   "execution_count": 8,
   "id": "1b97ab94",
   "metadata": {
    "execution": {
     "iopub.execute_input": "2022-12-29T15:44:56.169779Z",
     "iopub.status.busy": "2022-12-29T15:44:56.169346Z",
     "iopub.status.idle": "2022-12-29T15:44:56.177557Z",
     "shell.execute_reply": "2022-12-29T15:44:56.176387Z"
    },
    "papermill": {
     "duration": 0.018849,
     "end_time": "2022-12-29T15:44:56.179925",
     "exception": false,
     "start_time": "2022-12-29T15:44:56.161076",
     "status": "completed"
    },
    "tags": []
   },
   "outputs": [
    {
     "data": {
      "text/plain": [
       "array([ 3.07615033e-07, -1.89392449e-04,  8.20886302e-02,  2.70495053e+00])"
      ]
     },
     "execution_count": 8,
     "metadata": {},
     "output_type": "execute_result"
    }
   ],
   "source": [
    "# returns X in order of devreasing power\n",
    "# y = B3*x**3 + B2*x**2 + B1X + B0\n",
    "np.polyfit(X , y, 3)"
   ]
  },
  {
   "cell_type": "code",
   "execution_count": 9,
   "id": "58a1a2b1",
   "metadata": {
    "execution": {
     "iopub.execute_input": "2022-12-29T15:44:56.193350Z",
     "iopub.status.busy": "2022-12-29T15:44:56.192936Z",
     "iopub.status.idle": "2022-12-29T15:44:56.439990Z",
     "shell.execute_reply": "2022-12-29T15:44:56.438542Z"
    },
    "papermill": {
     "duration": 0.256737,
     "end_time": "2022-12-29T15:44:56.442546",
     "exception": false,
     "start_time": "2022-12-29T15:44:56.185809",
     "status": "completed"
    },
    "tags": []
   },
   "outputs": [
    {
     "data": {
      "image/png": "[encoded data removed]",
      "text/plain": [
       "<Figure size 432x288 with 1 Axes>"
      ]
     },
     "metadata": {
      "needs_background": "light"
     },
     "output_type": "display_data"
    }
   ],
   "source": [
    "pot_spend = np.linspace( 0 ,500 ,100)\n",
    "pred_sales = 3.07615033e-07*pot_spend**3 + -1.89392449e-04*pot_spend**2 + 8.20886302e-02*pot_spend + 2.70495053e+00\n",
    "sns.scatterplot( data = df , x = 'total_spend' , y = 'sales');\n",
    "plt.plot( pot_spend , pred_sales , color = 'red');"
   ]
  },
  {
   "cell_type": "code",
   "execution_count": null,
   "id": "988b09e2",
   "metadata": {
    "papermill": {
     "duration": 0.005991,
     "end_time": "2022-12-29T15:44:56.455120",
     "exception": false,
     "start_time": "2022-12-29T15:44:56.449129",
     "status": "completed"
    },
    "tags": []
   },
   "outputs": [],
   "source": []
  }
 ],
 "metadata": {
  "kernelspec": {
   "display_name": "Python 3",
   "language": "python",
   "name": "python3"
  },
  "language_info": {
   "codemirror_mode": {
    "name": "ipython",
    "version": 3
   },
   "file_extension": ".py",
   "mimetype": "text/x-python",
   "name": "python",
   "nbconvert_exporter": "python",
   "pygments_lexer": "ipython3",
   "version": "3.7.12"
  },
  "papermill": {
   "default_parameters": {},
   "duration": 11.736128,
   "end_time": "2022-12-29T15:44:57.285301",
   "environment_variables": {},
   "exception": null,
   "input_path": "__notebook__.ipynb",
   "output_path": "__notebook__.ipynb",
   "parameters": {},
   "start_time": "2022-12-29T15:44:45.549173",
   "version": "2.3.4"
  }
 },
 "nbformat": 4,
 "nbformat_minor": 5
}
