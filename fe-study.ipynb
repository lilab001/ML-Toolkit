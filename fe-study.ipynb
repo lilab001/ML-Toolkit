{
 "cells": [
  {
   "cell_type": "code",
   "execution_count": 1,
   "id": "9900f7a8",
   "metadata": {
    "_cell_guid": "b1076dfc-b9ad-4769-8c92-a6c4dae69d19",
    "_uuid": "8f2839f25d086af736a60e9eeb907d3b93b6e0e5",
    "execution": {
     "iopub.execute_input": "2022-11-30T00:52:25.127514Z",
     "iopub.status.busy": "2022-11-30T00:52:25.126159Z",
     "iopub.status.idle": "2022-11-30T00:52:25.151942Z",
     "shell.execute_reply": "2022-11-30T00:52:25.150755Z"
    },
    "papermill": {
     "duration": 0.034568,
     "end_time": "2022-11-30T00:52:25.155075",
     "exception": false,
     "start_time": "2022-11-30T00:52:25.120507",
     "status": "completed"
    },
    "tags": []
   },
   "outputs": [
    {
     "name": "stdout",
     "output_type": "stream",
     "text": [
      "/kaggle/input/fe-course-data/spotify.csv\n",
      "/kaggle/input/fe-course-data/ames.csv\n",
      "/kaggle/input/fe-course-data/DataDocumentation.txt\n",
      "/kaggle/input/fe-course-data/movielens1m.csv\n",
      "/kaggle/input/fe-course-data/abalone.csv\n",
      "/kaggle/input/fe-course-data/concrete.csv\n",
      "/kaggle/input/fe-course-data/autos.csv\n",
      "/kaggle/input/fe-course-data/accidents.csv\n",
      "/kaggle/input/fe-course-data/customer.csv\n",
      "/kaggle/input/fe-course-data/caravan.csv\n",
      "/kaggle/input/fe-course-data/airbnb.csv\n",
      "/kaggle/input/fe-course-data/bike-sharing.csv\n",
      "/kaggle/input/fe-course-data/housing.csv\n"
     ]
    }
   ],
   "source": [
    "import numpy as np  \n",
    "import pandas as pd  \n",
    " \n",
    "import os\n",
    "for dirname, _, filenames in os.walk('/kaggle/input'):\n",
    "    for filename in filenames:\n",
    "        print(os.path.join(dirname, filename))"
   ]
  },
  {
   "cell_type": "code",
   "execution_count": 2,
   "id": "6bc38f5b",
   "metadata": {
    "execution": {
     "iopub.execute_input": "2022-11-30T00:52:25.164143Z",
     "iopub.status.busy": "2022-11-30T00:52:25.163056Z",
     "iopub.status.idle": "2022-11-30T00:52:26.908887Z",
     "shell.execute_reply": "2022-11-30T00:52:26.907659Z"
    },
    "papermill": {
     "duration": 1.752912,
     "end_time": "2022-11-30T00:52:26.911691",
     "exception": false,
     "start_time": "2022-11-30T00:52:25.158779",
     "status": "completed"
    },
    "tags": []
   },
   "outputs": [
    {
     "data": {
      "text/html": [
       "<div>\n",
       "<style scoped>\n",
       "    .dataframe tbody tr th:only-of-type {\n",
       "        vertical-align: middle;\n",
       "    }\n",
       "\n",
       "    .dataframe tbody tr th {\n",
       "        vertical-align: top;\n",
       "    }\n",
       "\n",
       "    .dataframe thead th {\n",
       "        text-align: right;\n",
       "    }\n",
       "</style>\n",
       "<table border=\"1\" class=\"dataframe\">\n",
       "  <thead>\n",
       "    <tr style=\"text-align: right;\">\n",
       "      <th></th>\n",
       "      <th>Cement</th>\n",
       "      <th>BlastFurnaceSlag</th>\n",
       "      <th>FlyAsh</th>\n",
       "      <th>Water</th>\n",
       "      <th>Superplasticizer</th>\n",
       "      <th>CoarseAggregate</th>\n",
       "      <th>FineAggregate</th>\n",
       "      <th>Age</th>\n",
       "      <th>CompressiveStrength</th>\n",
       "    </tr>\n",
       "  </thead>\n",
       "  <tbody>\n",
       "    <tr>\n",
       "      <th>0</th>\n",
       "      <td>540.0</td>\n",
       "      <td>0.0</td>\n",
       "      <td>0.0</td>\n",
       "      <td>162.0</td>\n",
       "      <td>2.5</td>\n",
       "      <td>1040.0</td>\n",
       "      <td>676.0</td>\n",
       "      <td>28</td>\n",
       "      <td>79.99</td>\n",
       "    </tr>\n",
       "    <tr>\n",
       "      <th>1</th>\n",
       "      <td>540.0</td>\n",
       "      <td>0.0</td>\n",
       "      <td>0.0</td>\n",
       "      <td>162.0</td>\n",
       "      <td>2.5</td>\n",
       "      <td>1055.0</td>\n",
       "      <td>676.0</td>\n",
       "      <td>28</td>\n",
       "      <td>61.89</td>\n",
       "    </tr>\n",
       "    <tr>\n",
       "      <th>2</th>\n",
       "      <td>332.5</td>\n",
       "      <td>142.5</td>\n",
       "      <td>0.0</td>\n",
       "      <td>228.0</td>\n",
       "      <td>0.0</td>\n",
       "      <td>932.0</td>\n",
       "      <td>594.0</td>\n",
       "      <td>270</td>\n",
       "      <td>40.27</td>\n",
       "    </tr>\n",
       "    <tr>\n",
       "      <th>3</th>\n",
       "      <td>332.5</td>\n",
       "      <td>142.5</td>\n",
       "      <td>0.0</td>\n",
       "      <td>228.0</td>\n",
       "      <td>0.0</td>\n",
       "      <td>932.0</td>\n",
       "      <td>594.0</td>\n",
       "      <td>365</td>\n",
       "      <td>41.05</td>\n",
       "    </tr>\n",
       "    <tr>\n",
       "      <th>4</th>\n",
       "      <td>198.6</td>\n",
       "      <td>132.4</td>\n",
       "      <td>0.0</td>\n",
       "      <td>192.0</td>\n",
       "      <td>0.0</td>\n",
       "      <td>978.4</td>\n",
       "      <td>825.5</td>\n",
       "      <td>360</td>\n",
       "      <td>44.30</td>\n",
       "    </tr>\n",
       "  </tbody>\n",
       "</table>\n",
       "</div>"
      ],
      "text/plain": [
       "   Cement  BlastFurnaceSlag  FlyAsh  Water  Superplasticizer  CoarseAggregate  \\\n",
       "0   540.0               0.0     0.0  162.0               2.5           1040.0   \n",
       "1   540.0               0.0     0.0  162.0               2.5           1055.0   \n",
       "2   332.5             142.5     0.0  228.0               0.0            932.0   \n",
       "3   332.5             142.5     0.0  228.0               0.0            932.0   \n",
       "4   198.6             132.4     0.0  192.0               0.0            978.4   \n",
       "\n",
       "   FineAggregate  Age  CompressiveStrength  \n",
       "0          676.0   28                79.99  \n",
       "1          676.0   28                61.89  \n",
       "2          594.0  270                40.27  \n",
       "3          594.0  365                41.05  \n",
       "4          825.5  360                44.30  "
      ]
     },
     "execution_count": 2,
     "metadata": {},
     "output_type": "execute_result"
    }
   ],
   "source": [
    "from sklearn.ensemble import RandomForestRegressor\n",
    "from sklearn.model_selection import cross_val_score\n",
    "\n",
    "df = pd.read_csv(\"../input/fe-course-data/concrete.csv\")\n",
    "df.head()"
   ]
  },
  {
   "cell_type": "markdown",
   "id": "9410b796",
   "metadata": {
    "papermill": {
     "duration": 0.002671,
     "end_time": "2022-11-30T00:52:26.917423",
     "exception": false,
     "start_time": "2022-11-30T00:52:26.914752",
     "status": "completed"
    },
    "tags": []
   },
   "source": [
    "* We want to Feature Engineer some new variables\n",
    "* Want to stablish baseline score first by training model on unaugmented dataset\n",
    "* Baseline Score will tell us if new features are worth keeping"
   ]
  },
  {
   "cell_type": "code",
   "execution_count": 3,
   "id": "a972acd0",
   "metadata": {
    "execution": {
     "iopub.execute_input": "2022-11-30T00:52:26.925214Z",
     "iopub.status.busy": "2022-11-30T00:52:26.924682Z",
     "iopub.status.idle": "2022-11-30T00:52:37.717690Z",
     "shell.execute_reply": "2022-11-30T00:52:37.715782Z"
    },
    "papermill": {
     "duration": 10.800868,
     "end_time": "2022-11-30T00:52:37.721141",
     "exception": false,
     "start_time": "2022-11-30T00:52:26.920273",
     "status": "completed"
    },
    "tags": []
   },
   "outputs": [
    {
     "name": "stdout",
     "output_type": "stream",
     "text": [
      "\n",
      "MAE Baseline Score : 8.2317 \n"
     ]
    }
   ],
   "source": [
    "import warnings\n",
    "warnings.filterwarnings('ignore')\n",
    "\n",
    "X = df.copy()\n",
    "y = X.pop(\"CompressiveStrength\")\n",
    "\n",
    "# Training and score baseline model\n",
    "\n",
    "baseline = RandomForestRegressor( criterion = \"mae\" , random_state = 0)\n",
    "baseline_score = cross_val_score( baseline , X , y , cv = 5 , scoring = \"neg_mean_absolute_error\")\n",
    "baseline_score = -1*baseline_score.mean()\n",
    "\n",
    "print(\"\")\n",
    "print(\"MAE Baseline Score : {:.4f} \".format(baseline_score))"
   ]
  },
  {
   "cell_type": "markdown",
   "id": "44106e4f",
   "metadata": {
    "papermill": {
     "duration": 0.002778,
     "end_time": "2022-11-30T00:52:37.727267",
     "exception": false,
     "start_time": "2022-11-30T00:52:37.724489",
     "status": "completed"
    },
    "tags": []
   },
   "source": [
    "* \"Ratio of ingredients in a recipe is usually a better predictor of how the recipe turns our than their absolute amounts\""
   ]
  },
  {
   "cell_type": "code",
   "execution_count": 4,
   "id": "8ac86807",
   "metadata": {
    "execution": {
     "iopub.execute_input": "2022-11-30T00:52:37.735244Z",
     "iopub.status.busy": "2022-11-30T00:52:37.734780Z",
     "iopub.status.idle": "2022-11-30T00:52:52.865988Z",
     "shell.execute_reply": "2022-11-30T00:52:52.864666Z"
    },
    "papermill": {
     "duration": 15.139207,
     "end_time": "2022-11-30T00:52:52.869470",
     "exception": false,
     "start_time": "2022-11-30T00:52:37.730263",
     "status": "completed"
    },
    "tags": []
   },
   "outputs": [
    {
     "name": "stdout",
     "output_type": "stream",
     "text": [
      "\n",
      "MAE Score of Model w Enhanced Data : 7.9481 \n"
     ]
    }
   ],
   "source": [
    "X = df.copy()\n",
    "y = X.pop(\"CompressiveStrength\")\n",
    "\n",
    "# lets add three new features\n",
    "\n",
    "X[\"FCRatio\"] = X[\"FineAggregate\"]/X[\"CoarseAggregate\"]\n",
    "X[\"AggCmtRatio\"] = (X[\"CoarseAggregate\"] + X[\"FineAggregate\"]) / X[\"Cement\"]\n",
    "X[\"WtrCmtRatio\"] =  X[\"Water\"] / X[\"Cement\"]\n",
    "\n",
    "# Train and score model w new feats.\n",
    "\n",
    "model = RandomForestRegressor( criterion = \"mae\", random_state = 0)\n",
    "score = cross_val_score( model , X , y, scoring = \"neg_mean_absolute_error\")\n",
    "score = -1 * score.mean()\n",
    "\n",
    "print(\"\")\n",
    "print(\"MAE Score of Model w Enhanced Data : {:.4f} \".format(score))"
   ]
  }
 ],
 "metadata": {
  "kernelspec": {
   "display_name": "Python 3",
   "language": "python",
   "name": "python3"
  },
  "language_info": {
   "codemirror_mode": {
    "name": "ipython",
    "version": 3
   },
   "file_extension": ".py",
   "mimetype": "text/x-python",
   "name": "python",
   "nbconvert_exporter": "python",
   "pygments_lexer": "ipython3",
   "version": "3.7.12"
  },
  "papermill": {
   "default_parameters": {},
   "duration": 39.195274,
   "end_time": "2022-11-30T00:52:53.998246",
   "environment_variables": {},
   "exception": null,
   "input_path": "__notebook__.ipynb",
   "output_path": "__notebook__.ipynb",
   "parameters": {},
   "start_time": "2022-11-30T00:52:14.802972",
   "version": "2.3.4"
  }
 },
 "nbformat": 4,
 "nbformat_minor": 5
}
